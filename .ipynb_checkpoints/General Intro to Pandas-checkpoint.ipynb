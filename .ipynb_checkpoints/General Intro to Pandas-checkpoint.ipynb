{
 "cells": [
  {
   "cell_type": "markdown",
   "metadata": {},
   "source": [
    "# Import Pandas Library "
   ]
  },
  {
   "cell_type": "markdown",
   "metadata": {},
   "source": [
    "Two ways to import pandas (1). Importing it as pandas - then keep calling it as pandas by parsing in the arguments OR Simply by using alias such as pd, and the parse arguments using aliases "
   ]
  },
  {
   "cell_type": "markdown",
   "metadata": {},
   "source": [
    "# Pandas Documentation "
   ]
  },
  {
   "cell_type": "markdown",
   "metadata": {},
   "source": [
    "Pandas and then hit Tab key will bring the arguments for the method"
   ]
  },
  {
   "cell_type": "code",
   "execution_count": 3,
   "metadata": {},
   "outputs": [],
   "source": [
    "import pandas as pd "
   ]
  },
  {
   "cell_type": "markdown",
   "metadata": {},
   "source": [
    "... and then if i want to know the version of pandas i am running ; "
   ]
  },
  {
   "cell_type": "code",
   "execution_count": 5,
   "metadata": {},
   "outputs": [
    {
     "name": "stdout",
     "output_type": "stream",
     "text": [
      "\n",
      "INSTALLED VERSIONS\n",
      "------------------\n",
      "commit           : db08276bc116c438d3fdee492026f8223584c477\n",
      "python           : 3.8.5.final.0\n",
      "python-bits      : 64\n",
      "OS               : Windows\n",
      "OS-release       : 10\n",
      "Version          : 10.0.19041\n",
      "machine          : AMD64\n",
      "processor        : Intel64 Family 6 Model 61 Stepping 4, GenuineIntel\n",
      "byteorder        : little\n",
      "LC_ALL           : None\n",
      "LANG             : None\n",
      "LOCALE           : English_United States.1252\n",
      "\n",
      "pandas           : 1.1.3\n",
      "numpy            : 1.19.2\n",
      "pytz             : 2020.1\n",
      "dateutil         : 2.8.1\n",
      "pip              : 20.2.4\n",
      "setuptools       : 50.3.1.post20201107\n",
      "Cython           : 0.29.21\n",
      "pytest           : 6.1.1\n",
      "hypothesis       : None\n",
      "sphinx           : 3.2.1\n",
      "blosc            : None\n",
      "feather          : None\n",
      "xlsxwriter       : 1.3.7\n",
      "lxml.etree       : 4.6.1\n",
      "html5lib         : 1.1\n",
      "pymysql          : None\n",
      "psycopg2         : None\n",
      "jinja2           : 2.11.2\n",
      "IPython          : 7.19.0\n",
      "pandas_datareader: None\n",
      "bs4              : 4.9.3\n",
      "bottleneck       : 1.3.2\n",
      "fsspec           : 0.8.3\n",
      "fastparquet      : None\n",
      "gcsfs            : None\n",
      "matplotlib       : 3.3.2\n",
      "numexpr          : 2.7.1\n",
      "odfpy            : None\n",
      "openpyxl         : 3.0.5\n",
      "pandas_gbq       : None\n",
      "pyarrow          : None\n",
      "pytables         : None\n",
      "pyxlsb           : None\n",
      "s3fs             : None\n",
      "scipy            : 1.5.2\n",
      "sqlalchemy       : 1.3.20\n",
      "tables           : 3.6.1\n",
      "tabulate         : None\n",
      "xarray           : None\n",
      "xlrd             : 1.2.0\n",
      "xlwt             : 1.3.0\n",
      "numba            : 0.51.2\n"
     ]
    }
   ],
   "source": [
    "pd.show_versions() # This shows not only the pandas version but also the dependecies for running the pandas library"
   ]
  },
  {
   "cell_type": "markdown",
   "metadata": {},
   "source": [
    "Alternatively, i can use only : pd.__version__ as below"
   ]
  },
  {
   "cell_type": "code",
   "execution_count": 6,
   "metadata": {},
   "outputs": [
    {
     "data": {
      "text/plain": [
       "'1.1.3'"
      ]
     },
     "execution_count": 6,
     "metadata": {},
     "output_type": "execute_result"
    }
   ],
   "source": [
    "pd.__version__ # The output below shows that i am using pandas version 1.13"
   ]
  },
  {
   "cell_type": "markdown",
   "metadata": {},
   "source": [
    "To Know anything about pandas documentation and functions :We use two pd or pandas, depending on how you imported pandas followed by Hitting TAB Key: See below "
   ]
  },
  {
   "cell_type": "code",
   "execution_count": 8,
   "metadata": {},
   "outputs": [
    {
     "data": {
      "text/plain": [
       "<module 'pandas' from 'C:\\\\Users\\\\user\\\\anaconda3\\\\lib\\\\site-packages\\\\pandas\\\\__init__.py'>"
      ]
     },
     "execution_count": 8,
     "metadata": {},
     "output_type": "execute_result"
    }
   ],
   "source": [
    "pd. # By typing pd. or pandas. and hitting TAB key gives me all the methods available in the pandas library"
   ]
  },
  {
   "cell_type": "code",
   "execution_count": 11,
   "metadata": {},
   "outputs": [],
   "source": [
    " pd.show_versions? # This will display all the docstring information about the method/package or function"
   ]
  },
  {
   "cell_type": "code",
   "execution_count": 16,
   "metadata": {},
   "outputs": [],
   "source": [
    " pd.read_csv? # This will display all docstring information about read_csv function or method or package in pandas"
   ]
  },
  {
   "cell_type": "markdown",
   "metadata": {},
   "source": [
    "# DataFrame "
   ]
  },
  {
   "cell_type": "markdown",
   "metadata": {},
   "source": [
    "A DataFrame is like a two dimensional array.  You can think of a DataFrame as being a table or spreadsheet having rows and columns or basically matrix. Comparing to the previous dataset of Goalfinal1000- One can refer to it as a DataFrame containing rows and columns of participants in that project. Its important to note that a DataFrame is a a combination or sequence of series that share the same index. As an example lets import the dataset/DataFrame I am going to use to illustrate the session below. I will show how to Display a DataFrame, series and others.  "
   ]
  },
  {
   "cell_type": "code",
   "execution_count": 28,
   "metadata": {},
   "outputs": [],
   "source": [
    "\n",
    "goal = pd.read_excel(r'C:\\Users\\user\\Desktop\\Data Science\\Pandas Intro\\data\\Goalfinal1000_1.xlsx')\n",
    "\n",
    "# OR \n",
    "\n",
    "# goal = pd.read_excel('../data/Goalfinal1000_1.xlsx')"
   ]
  },
  {
   "cell_type": "markdown",
   "metadata": {},
   "source": [
    "Letting our DataFrame as oo in the next subsquent analysis "
   ]
  },
  {
   "cell_type": "code",
   "execution_count": 35,
   "metadata": {},
   "outputs": [],
   "source": [
    "\n",
    "oo = pd.read_excel(r'C:\\Users\\user\\Desktop\\Data Science\\Pandas Intro\\data\\olympics.xlsx') # oo represents the DataFrame in Pandas now!"
   ]
  },
  {
   "cell_type": "code",
   "execution_count": null,
   "metadata": {},
   "outputs": [],
   "source": []
  },
  {
   "cell_type": "code",
   "execution_count": null,
   "metadata": {},
   "outputs": [],
   "source": []
  },
  {
   "cell_type": "code",
   "execution_count": 36,
   "metadata": {},
   "outputs": [
    {
     "data": {
      "text/html": [
       "<div>\n",
       "<style scoped>\n",
       "    .dataframe tbody tr th:only-of-type {\n",
       "        vertical-align: middle;\n",
       "    }\n",
       "\n",
       "    .dataframe tbody tr th {\n",
       "        vertical-align: top;\n",
       "    }\n",
       "\n",
       "    .dataframe thead th {\n",
       "        text-align: right;\n",
       "    }\n",
       "</style>\n",
       "<table border=\"1\" class=\"dataframe\">\n",
       "  <thead>\n",
       "    <tr style=\"text-align: right;\">\n",
       "      <th></th>\n",
       "      <th>City</th>\n",
       "      <th>Year</th>\n",
       "      <th>Sport</th>\n",
       "      <th>Discipline</th>\n",
       "      <th>Event</th>\n",
       "      <th>Athlete</th>\n",
       "      <th>Gender</th>\n",
       "      <th>Country_Code</th>\n",
       "      <th>Country</th>\n",
       "      <th>Event_gender</th>\n",
       "      <th>Medal</th>\n",
       "    </tr>\n",
       "  </thead>\n",
       "  <tbody>\n",
       "    <tr>\n",
       "      <th>0</th>\n",
       "      <td>Montreal</td>\n",
       "      <td>1976.0</td>\n",
       "      <td>Aquatics</td>\n",
       "      <td>Diving</td>\n",
       "      <td>3m springboard</td>\n",
       "      <td>KÖHLER, Christa</td>\n",
       "      <td>Women</td>\n",
       "      <td>GDR</td>\n",
       "      <td>East Germany</td>\n",
       "      <td>W</td>\n",
       "      <td>Silver</td>\n",
       "    </tr>\n",
       "    <tr>\n",
       "      <th>1</th>\n",
       "      <td>Montreal</td>\n",
       "      <td>1976.0</td>\n",
       "      <td>Aquatics</td>\n",
       "      <td>Diving</td>\n",
       "      <td>3m springboard</td>\n",
       "      <td>KOSENKOV, Aleksandr</td>\n",
       "      <td>Men</td>\n",
       "      <td>URS</td>\n",
       "      <td>Soviet Union</td>\n",
       "      <td>M</td>\n",
       "      <td>Bronze</td>\n",
       "    </tr>\n",
       "    <tr>\n",
       "      <th>2</th>\n",
       "      <td>Montreal</td>\n",
       "      <td>1976.0</td>\n",
       "      <td>Aquatics</td>\n",
       "      <td>Diving</td>\n",
       "      <td>3m springboard</td>\n",
       "      <td>BOGGS, Philip George</td>\n",
       "      <td>Men</td>\n",
       "      <td>USA</td>\n",
       "      <td>United States</td>\n",
       "      <td>M</td>\n",
       "      <td>Gold</td>\n",
       "    </tr>\n",
       "    <tr>\n",
       "      <th>3</th>\n",
       "      <td>Montreal</td>\n",
       "      <td>1976.0</td>\n",
       "      <td>Aquatics</td>\n",
       "      <td>Diving</td>\n",
       "      <td>3m springboard</td>\n",
       "      <td>CAGNOTTO, Giorgio Franco</td>\n",
       "      <td>Men</td>\n",
       "      <td>ITA</td>\n",
       "      <td>Italy</td>\n",
       "      <td>M</td>\n",
       "      <td>Silver</td>\n",
       "    </tr>\n",
       "    <tr>\n",
       "      <th>4</th>\n",
       "      <td>Montreal</td>\n",
       "      <td>1976.0</td>\n",
       "      <td>Aquatics</td>\n",
       "      <td>Diving</td>\n",
       "      <td>10m platform</td>\n",
       "      <td>WILSON, Deborah Keplar</td>\n",
       "      <td>Women</td>\n",
       "      <td>USA</td>\n",
       "      <td>United States</td>\n",
       "      <td>W</td>\n",
       "      <td>Bronze</td>\n",
       "    </tr>\n",
       "    <tr>\n",
       "      <th>...</th>\n",
       "      <td>...</td>\n",
       "      <td>...</td>\n",
       "      <td>...</td>\n",
       "      <td>...</td>\n",
       "      <td>...</td>\n",
       "      <td>...</td>\n",
       "      <td>...</td>\n",
       "      <td>...</td>\n",
       "      <td>...</td>\n",
       "      <td>...</td>\n",
       "      <td>...</td>\n",
       "    </tr>\n",
       "    <tr>\n",
       "      <th>15428</th>\n",
       "      <td>Beijing</td>\n",
       "      <td>2008.0</td>\n",
       "      <td>Wrestling</td>\n",
       "      <td>Wrestling Gre-R</td>\n",
       "      <td>66 - 74kg</td>\n",
       "      <td>GUENOT, Christophe</td>\n",
       "      <td>Men</td>\n",
       "      <td>FRA</td>\n",
       "      <td>France</td>\n",
       "      <td>M</td>\n",
       "      <td>Bronze</td>\n",
       "    </tr>\n",
       "    <tr>\n",
       "      <th>15429</th>\n",
       "      <td>Beijing</td>\n",
       "      <td>2008.0</td>\n",
       "      <td>Wrestling</td>\n",
       "      <td>Wrestling Gre-R</td>\n",
       "      <td>66 - 74kg</td>\n",
       "      <td>KVIRKELIA, Manuchar</td>\n",
       "      <td>Men</td>\n",
       "      <td>GEO</td>\n",
       "      <td>Georgia</td>\n",
       "      <td>M</td>\n",
       "      <td>Gold</td>\n",
       "    </tr>\n",
       "    <tr>\n",
       "      <th>15430</th>\n",
       "      <td>Beijing</td>\n",
       "      <td>2008.0</td>\n",
       "      <td>Wrestling</td>\n",
       "      <td>Wrestling Gre-R</td>\n",
       "      <td>55 - 60kg</td>\n",
       "      <td>RAHIMOV, Vitaliy</td>\n",
       "      <td>Men</td>\n",
       "      <td>AZE</td>\n",
       "      <td>Azerbaijan</td>\n",
       "      <td>M</td>\n",
       "      <td>Silver</td>\n",
       "    </tr>\n",
       "    <tr>\n",
       "      <th>15431</th>\n",
       "      <td>Beijing</td>\n",
       "      <td>2008.0</td>\n",
       "      <td>Wrestling</td>\n",
       "      <td>Wrestling Gre-R</td>\n",
       "      <td>60 - 66kg</td>\n",
       "      <td>GUENOT, Steeve</td>\n",
       "      <td>Men</td>\n",
       "      <td>FRA</td>\n",
       "      <td>France</td>\n",
       "      <td>M</td>\n",
       "      <td>Gold</td>\n",
       "    </tr>\n",
       "    <tr>\n",
       "      <th>15432</th>\n",
       "      <td>Beijing</td>\n",
       "      <td>2008.0</td>\n",
       "      <td>Wrestling</td>\n",
       "      <td>Wrestling Gre-R</td>\n",
       "      <td>96 - 120kg</td>\n",
       "      <td>LOPEZ, Mijain</td>\n",
       "      <td>Men</td>\n",
       "      <td>CUB</td>\n",
       "      <td>Cuba</td>\n",
       "      <td>M</td>\n",
       "      <td>Gold</td>\n",
       "    </tr>\n",
       "  </tbody>\n",
       "</table>\n",
       "<p>15433 rows × 11 columns</p>\n",
       "</div>"
      ],
      "text/plain": [
       "           City    Year      Sport       Discipline           Event  \\\n",
       "0      Montreal  1976.0   Aquatics           Diving  3m springboard   \n",
       "1      Montreal  1976.0   Aquatics           Diving  3m springboard   \n",
       "2      Montreal  1976.0   Aquatics           Diving  3m springboard   \n",
       "3      Montreal  1976.0   Aquatics           Diving  3m springboard   \n",
       "4      Montreal  1976.0   Aquatics           Diving    10m platform   \n",
       "...         ...     ...        ...              ...             ...   \n",
       "15428   Beijing  2008.0  Wrestling  Wrestling Gre-R       66 - 74kg   \n",
       "15429   Beijing  2008.0  Wrestling  Wrestling Gre-R       66 - 74kg   \n",
       "15430   Beijing  2008.0  Wrestling  Wrestling Gre-R       55 - 60kg   \n",
       "15431   Beijing  2008.0  Wrestling  Wrestling Gre-R       60 - 66kg   \n",
       "15432   Beijing  2008.0  Wrestling  Wrestling Gre-R      96 - 120kg   \n",
       "\n",
       "                        Athlete Gender Country_Code        Country  \\\n",
       "0               KÖHLER, Christa  Women          GDR   East Germany   \n",
       "1           KOSENKOV, Aleksandr    Men          URS   Soviet Union   \n",
       "2          BOGGS, Philip George    Men          USA  United States   \n",
       "3      CAGNOTTO, Giorgio Franco    Men          ITA          Italy   \n",
       "4        WILSON, Deborah Keplar  Women          USA  United States   \n",
       "...                         ...    ...          ...            ...   \n",
       "15428        GUENOT, Christophe    Men          FRA         France   \n",
       "15429       KVIRKELIA, Manuchar    Men          GEO        Georgia   \n",
       "15430          RAHIMOV, Vitaliy    Men          AZE     Azerbaijan   \n",
       "15431            GUENOT, Steeve    Men          FRA         France   \n",
       "15432             LOPEZ, Mijain    Men          CUB           Cuba   \n",
       "\n",
       "      Event_gender   Medal  \n",
       "0                W  Silver  \n",
       "1                M  Bronze  \n",
       "2                M    Gold  \n",
       "3                M  Silver  \n",
       "4                W  Bronze  \n",
       "...            ...     ...  \n",
       "15428            M  Bronze  \n",
       "15429            M    Gold  \n",
       "15430            M  Silver  \n",
       "15431            M    Gold  \n",
       "15432            M    Gold  \n",
       "\n",
       "[15433 rows x 11 columns]"
      ]
     },
     "execution_count": 36,
     "metadata": {},
     "output_type": "execute_result"
    }
   ],
   "source": [
    "oo # Using the name of the DataFrame -we can call the DataFrame and view the entire matrix"
   ]
  },
  {
   "cell_type": "markdown",
   "metadata": {},
   "source": [
    "# Method - head()"
   ]
  },
  {
   "cell_type": "markdown",
   "metadata": {},
   "source": [
    "This methods helps us to view only five rows of the DataFrame in pandas library "
   ]
  },
  {
   "cell_type": "code",
   "execution_count": 37,
   "metadata": {},
   "outputs": [
    {
     "data": {
      "text/html": [
       "<div>\n",
       "<style scoped>\n",
       "    .dataframe tbody tr th:only-of-type {\n",
       "        vertical-align: middle;\n",
       "    }\n",
       "\n",
       "    .dataframe tbody tr th {\n",
       "        vertical-align: top;\n",
       "    }\n",
       "\n",
       "    .dataframe thead th {\n",
       "        text-align: right;\n",
       "    }\n",
       "</style>\n",
       "<table border=\"1\" class=\"dataframe\">\n",
       "  <thead>\n",
       "    <tr style=\"text-align: right;\">\n",
       "      <th></th>\n",
       "      <th>City</th>\n",
       "      <th>Year</th>\n",
       "      <th>Sport</th>\n",
       "      <th>Discipline</th>\n",
       "      <th>Event</th>\n",
       "      <th>Athlete</th>\n",
       "      <th>Gender</th>\n",
       "      <th>Country_Code</th>\n",
       "      <th>Country</th>\n",
       "      <th>Event_gender</th>\n",
       "      <th>Medal</th>\n",
       "    </tr>\n",
       "  </thead>\n",
       "  <tbody>\n",
       "    <tr>\n",
       "      <th>0</th>\n",
       "      <td>Montreal</td>\n",
       "      <td>1976.0</td>\n",
       "      <td>Aquatics</td>\n",
       "      <td>Diving</td>\n",
       "      <td>3m springboard</td>\n",
       "      <td>KÖHLER, Christa</td>\n",
       "      <td>Women</td>\n",
       "      <td>GDR</td>\n",
       "      <td>East Germany</td>\n",
       "      <td>W</td>\n",
       "      <td>Silver</td>\n",
       "    </tr>\n",
       "    <tr>\n",
       "      <th>1</th>\n",
       "      <td>Montreal</td>\n",
       "      <td>1976.0</td>\n",
       "      <td>Aquatics</td>\n",
       "      <td>Diving</td>\n",
       "      <td>3m springboard</td>\n",
       "      <td>KOSENKOV, Aleksandr</td>\n",
       "      <td>Men</td>\n",
       "      <td>URS</td>\n",
       "      <td>Soviet Union</td>\n",
       "      <td>M</td>\n",
       "      <td>Bronze</td>\n",
       "    </tr>\n",
       "    <tr>\n",
       "      <th>2</th>\n",
       "      <td>Montreal</td>\n",
       "      <td>1976.0</td>\n",
       "      <td>Aquatics</td>\n",
       "      <td>Diving</td>\n",
       "      <td>3m springboard</td>\n",
       "      <td>BOGGS, Philip George</td>\n",
       "      <td>Men</td>\n",
       "      <td>USA</td>\n",
       "      <td>United States</td>\n",
       "      <td>M</td>\n",
       "      <td>Gold</td>\n",
       "    </tr>\n",
       "    <tr>\n",
       "      <th>3</th>\n",
       "      <td>Montreal</td>\n",
       "      <td>1976.0</td>\n",
       "      <td>Aquatics</td>\n",
       "      <td>Diving</td>\n",
       "      <td>3m springboard</td>\n",
       "      <td>CAGNOTTO, Giorgio Franco</td>\n",
       "      <td>Men</td>\n",
       "      <td>ITA</td>\n",
       "      <td>Italy</td>\n",
       "      <td>M</td>\n",
       "      <td>Silver</td>\n",
       "    </tr>\n",
       "    <tr>\n",
       "      <th>4</th>\n",
       "      <td>Montreal</td>\n",
       "      <td>1976.0</td>\n",
       "      <td>Aquatics</td>\n",
       "      <td>Diving</td>\n",
       "      <td>10m platform</td>\n",
       "      <td>WILSON, Deborah Keplar</td>\n",
       "      <td>Women</td>\n",
       "      <td>USA</td>\n",
       "      <td>United States</td>\n",
       "      <td>W</td>\n",
       "      <td>Bronze</td>\n",
       "    </tr>\n",
       "  </tbody>\n",
       "</table>\n",
       "</div>"
      ],
      "text/plain": [
       "       City    Year     Sport Discipline           Event  \\\n",
       "0  Montreal  1976.0  Aquatics     Diving  3m springboard   \n",
       "1  Montreal  1976.0  Aquatics     Diving  3m springboard   \n",
       "2  Montreal  1976.0  Aquatics     Diving  3m springboard   \n",
       "3  Montreal  1976.0  Aquatics     Diving  3m springboard   \n",
       "4  Montreal  1976.0  Aquatics     Diving    10m platform   \n",
       "\n",
       "                    Athlete Gender Country_Code        Country Event_gender  \\\n",
       "0           KÖHLER, Christa  Women          GDR   East Germany            W   \n",
       "1       KOSENKOV, Aleksandr    Men          URS   Soviet Union            M   \n",
       "2      BOGGS, Philip George    Men          USA  United States            M   \n",
       "3  CAGNOTTO, Giorgio Franco    Men          ITA          Italy            M   \n",
       "4    WILSON, Deborah Keplar  Women          USA  United States            W   \n",
       "\n",
       "    Medal  \n",
       "0  Silver  \n",
       "1  Bronze  \n",
       "2    Gold  \n",
       "3  Silver  \n",
       "4  Bronze  "
      ]
     },
     "execution_count": 37,
     "metadata": {},
     "output_type": "execute_result"
    }
   ],
   "source": [
    "oo.head() "
   ]
  },
  {
   "cell_type": "markdown",
   "metadata": {},
   "source": [
    "# Method - tail()"
   ]
  },
  {
   "cell_type": "markdown",
   "metadata": {},
   "source": [
    "This method helps us to view the ast rows of the DataFrame in pandas library "
   ]
  },
  {
   "cell_type": "code",
   "execution_count": 38,
   "metadata": {},
   "outputs": [
    {
     "data": {
      "text/html": [
       "<div>\n",
       "<style scoped>\n",
       "    .dataframe tbody tr th:only-of-type {\n",
       "        vertical-align: middle;\n",
       "    }\n",
       "\n",
       "    .dataframe tbody tr th {\n",
       "        vertical-align: top;\n",
       "    }\n",
       "\n",
       "    .dataframe thead th {\n",
       "        text-align: right;\n",
       "    }\n",
       "</style>\n",
       "<table border=\"1\" class=\"dataframe\">\n",
       "  <thead>\n",
       "    <tr style=\"text-align: right;\">\n",
       "      <th></th>\n",
       "      <th>City</th>\n",
       "      <th>Year</th>\n",
       "      <th>Sport</th>\n",
       "      <th>Discipline</th>\n",
       "      <th>Event</th>\n",
       "      <th>Athlete</th>\n",
       "      <th>Gender</th>\n",
       "      <th>Country_Code</th>\n",
       "      <th>Country</th>\n",
       "      <th>Event_gender</th>\n",
       "      <th>Medal</th>\n",
       "    </tr>\n",
       "  </thead>\n",
       "  <tbody>\n",
       "    <tr>\n",
       "      <th>15428</th>\n",
       "      <td>Beijing</td>\n",
       "      <td>2008.0</td>\n",
       "      <td>Wrestling</td>\n",
       "      <td>Wrestling Gre-R</td>\n",
       "      <td>66 - 74kg</td>\n",
       "      <td>GUENOT, Christophe</td>\n",
       "      <td>Men</td>\n",
       "      <td>FRA</td>\n",
       "      <td>France</td>\n",
       "      <td>M</td>\n",
       "      <td>Bronze</td>\n",
       "    </tr>\n",
       "    <tr>\n",
       "      <th>15429</th>\n",
       "      <td>Beijing</td>\n",
       "      <td>2008.0</td>\n",
       "      <td>Wrestling</td>\n",
       "      <td>Wrestling Gre-R</td>\n",
       "      <td>66 - 74kg</td>\n",
       "      <td>KVIRKELIA, Manuchar</td>\n",
       "      <td>Men</td>\n",
       "      <td>GEO</td>\n",
       "      <td>Georgia</td>\n",
       "      <td>M</td>\n",
       "      <td>Gold</td>\n",
       "    </tr>\n",
       "    <tr>\n",
       "      <th>15430</th>\n",
       "      <td>Beijing</td>\n",
       "      <td>2008.0</td>\n",
       "      <td>Wrestling</td>\n",
       "      <td>Wrestling Gre-R</td>\n",
       "      <td>55 - 60kg</td>\n",
       "      <td>RAHIMOV, Vitaliy</td>\n",
       "      <td>Men</td>\n",
       "      <td>AZE</td>\n",
       "      <td>Azerbaijan</td>\n",
       "      <td>M</td>\n",
       "      <td>Silver</td>\n",
       "    </tr>\n",
       "    <tr>\n",
       "      <th>15431</th>\n",
       "      <td>Beijing</td>\n",
       "      <td>2008.0</td>\n",
       "      <td>Wrestling</td>\n",
       "      <td>Wrestling Gre-R</td>\n",
       "      <td>60 - 66kg</td>\n",
       "      <td>GUENOT, Steeve</td>\n",
       "      <td>Men</td>\n",
       "      <td>FRA</td>\n",
       "      <td>France</td>\n",
       "      <td>M</td>\n",
       "      <td>Gold</td>\n",
       "    </tr>\n",
       "    <tr>\n",
       "      <th>15432</th>\n",
       "      <td>Beijing</td>\n",
       "      <td>2008.0</td>\n",
       "      <td>Wrestling</td>\n",
       "      <td>Wrestling Gre-R</td>\n",
       "      <td>96 - 120kg</td>\n",
       "      <td>LOPEZ, Mijain</td>\n",
       "      <td>Men</td>\n",
       "      <td>CUB</td>\n",
       "      <td>Cuba</td>\n",
       "      <td>M</td>\n",
       "      <td>Gold</td>\n",
       "    </tr>\n",
       "  </tbody>\n",
       "</table>\n",
       "</div>"
      ],
      "text/plain": [
       "          City    Year      Sport       Discipline       Event  \\\n",
       "15428  Beijing  2008.0  Wrestling  Wrestling Gre-R   66 - 74kg   \n",
       "15429  Beijing  2008.0  Wrestling  Wrestling Gre-R   66 - 74kg   \n",
       "15430  Beijing  2008.0  Wrestling  Wrestling Gre-R   55 - 60kg   \n",
       "15431  Beijing  2008.0  Wrestling  Wrestling Gre-R   60 - 66kg   \n",
       "15432  Beijing  2008.0  Wrestling  Wrestling Gre-R  96 - 120kg   \n",
       "\n",
       "                   Athlete Gender Country_Code     Country Event_gender  \\\n",
       "15428   GUENOT, Christophe    Men          FRA      France            M   \n",
       "15429  KVIRKELIA, Manuchar    Men          GEO     Georgia            M   \n",
       "15430     RAHIMOV, Vitaliy    Men          AZE  Azerbaijan            M   \n",
       "15431       GUENOT, Steeve    Men          FRA      France            M   \n",
       "15432        LOPEZ, Mijain    Men          CUB        Cuba            M   \n",
       "\n",
       "        Medal  \n",
       "15428  Bronze  \n",
       "15429    Gold  \n",
       "15430  Silver  \n",
       "15431    Gold  \n",
       "15432    Gold  "
      ]
     },
     "execution_count": 38,
     "metadata": {},
     "output_type": "execute_result"
    }
   ],
   "source": [
    "oo.tail()"
   ]
  },
  {
   "cell_type": "markdown",
   "metadata": {},
   "source": [
    "# Series in pandas "
   ]
  },
  {
   "cell_type": "markdown",
   "metadata": {},
   "source": [
    "A series in pandas is basically one-dimensional array of indexed data or generally what we looked at in martix as a vector matrix. For example in the oo DataFrame , series include (columns like) city, Edition, Sport, and so on... Note that Rows can also be series , for example in this case of DataFrame oo, the rows representing each athlete and corresponding information. \n",
    "\n",
    "Accessing Series in pandas \n",
    "\n",
    "(1) is by calling the DataFrame (e.g., oo) followed by square brackets [] and then parse in the square brackets the name of the series (column) your are calling or want to access e.g., DataFrame[\"SeriesName\"  or 'SeriesName']\n",
    "\n",
    "(2) is by calling the DataFrame (e.g., oo) followed by dot notation e.g., (DataFrame.SeriesName). However, note that this method only works if the SeriesName has no spaces with the characters of letters. \n",
    "\n",
    "One can also access multiple series & one can do that by including the series names in a lsit ., e.g., DataFrame[['SeriesName1, 'SeriesName2]] etc., \n",
    "\n",
    "Real Life TIP : Series and DataFrame form teh core part of pandas data analysis : Thus, we always need to find out the type or the object of the DataFrame or Series, we are working with., E.g., type(DataFrame) should indicate that we are dealing with pandas.core.frame.DataFrame, type(DataFrame.SeriesName) returns pandas.core.series.Series. We will see more as more on !!!"
   ]
  },
  {
   "cell_type": "code",
   "execution_count": 40,
   "metadata": {},
   "outputs": [
    {
     "data": {
      "text/plain": [
       "0        Montreal\n",
       "1        Montreal\n",
       "2        Montreal\n",
       "3        Montreal\n",
       "4        Montreal\n",
       "           ...   \n",
       "15428     Beijing\n",
       "15429     Beijing\n",
       "15430     Beijing\n",
       "15431     Beijing\n",
       "15432     Beijing\n",
       "Name: City, Length: 15433, dtype: object"
      ]
     },
     "execution_count": 40,
     "metadata": {},
     "output_type": "execute_result"
    }
   ],
   "source": [
    "oo['City'] # This returns The Series or Column Called 'City'. However Note the way the series is written in teh DataFrame or Data"
   ]
  },
  {
   "cell_type": "code",
   "execution_count": 41,
   "metadata": {},
   "outputs": [
    {
     "data": {
      "text/plain": [
       "0                 KÖHLER, Christa\n",
       "1             KOSENKOV, Aleksandr\n",
       "2            BOGGS, Philip George\n",
       "3        CAGNOTTO, Giorgio Franco\n",
       "4          WILSON, Deborah Keplar\n",
       "                   ...           \n",
       "15428          GUENOT, Christophe\n",
       "15429         KVIRKELIA, Manuchar\n",
       "15430            RAHIMOV, Vitaliy\n",
       "15431              GUENOT, Steeve\n",
       "15432               LOPEZ, Mijain\n",
       "Name: Athlete, Length: 15433, dtype: object"
      ]
     },
     "execution_count": 41,
     "metadata": {},
     "output_type": "execute_result"
    }
   ],
   "source": [
    "oo['Athlete'] # This returns the series or column 'Athlete ' as written in the DataFrame or Data"
   ]
  },
  {
   "cell_type": "code",
   "execution_count": 43,
   "metadata": {},
   "outputs": [
    {
     "data": {
      "text/html": [
       "<div>\n",
       "<style scoped>\n",
       "    .dataframe tbody tr th:only-of-type {\n",
       "        vertical-align: middle;\n",
       "    }\n",
       "\n",
       "    .dataframe tbody tr th {\n",
       "        vertical-align: top;\n",
       "    }\n",
       "\n",
       "    .dataframe thead th {\n",
       "        text-align: right;\n",
       "    }\n",
       "</style>\n",
       "<table border=\"1\" class=\"dataframe\">\n",
       "  <thead>\n",
       "    <tr style=\"text-align: right;\">\n",
       "      <th></th>\n",
       "      <th>City</th>\n",
       "      <th>Sport</th>\n",
       "      <th>Athlete</th>\n",
       "    </tr>\n",
       "  </thead>\n",
       "  <tbody>\n",
       "    <tr>\n",
       "      <th>0</th>\n",
       "      <td>Montreal</td>\n",
       "      <td>Aquatics</td>\n",
       "      <td>KÖHLER, Christa</td>\n",
       "    </tr>\n",
       "    <tr>\n",
       "      <th>1</th>\n",
       "      <td>Montreal</td>\n",
       "      <td>Aquatics</td>\n",
       "      <td>KOSENKOV, Aleksandr</td>\n",
       "    </tr>\n",
       "    <tr>\n",
       "      <th>2</th>\n",
       "      <td>Montreal</td>\n",
       "      <td>Aquatics</td>\n",
       "      <td>BOGGS, Philip George</td>\n",
       "    </tr>\n",
       "    <tr>\n",
       "      <th>3</th>\n",
       "      <td>Montreal</td>\n",
       "      <td>Aquatics</td>\n",
       "      <td>CAGNOTTO, Giorgio Franco</td>\n",
       "    </tr>\n",
       "    <tr>\n",
       "      <th>4</th>\n",
       "      <td>Montreal</td>\n",
       "      <td>Aquatics</td>\n",
       "      <td>WILSON, Deborah Keplar</td>\n",
       "    </tr>\n",
       "    <tr>\n",
       "      <th>...</th>\n",
       "      <td>...</td>\n",
       "      <td>...</td>\n",
       "      <td>...</td>\n",
       "    </tr>\n",
       "    <tr>\n",
       "      <th>15428</th>\n",
       "      <td>Beijing</td>\n",
       "      <td>Wrestling</td>\n",
       "      <td>GUENOT, Christophe</td>\n",
       "    </tr>\n",
       "    <tr>\n",
       "      <th>15429</th>\n",
       "      <td>Beijing</td>\n",
       "      <td>Wrestling</td>\n",
       "      <td>KVIRKELIA, Manuchar</td>\n",
       "    </tr>\n",
       "    <tr>\n",
       "      <th>15430</th>\n",
       "      <td>Beijing</td>\n",
       "      <td>Wrestling</td>\n",
       "      <td>RAHIMOV, Vitaliy</td>\n",
       "    </tr>\n",
       "    <tr>\n",
       "      <th>15431</th>\n",
       "      <td>Beijing</td>\n",
       "      <td>Wrestling</td>\n",
       "      <td>GUENOT, Steeve</td>\n",
       "    </tr>\n",
       "    <tr>\n",
       "      <th>15432</th>\n",
       "      <td>Beijing</td>\n",
       "      <td>Wrestling</td>\n",
       "      <td>LOPEZ, Mijain</td>\n",
       "    </tr>\n",
       "  </tbody>\n",
       "</table>\n",
       "<p>15433 rows × 3 columns</p>\n",
       "</div>"
      ],
      "text/plain": [
       "           City      Sport                   Athlete\n",
       "0      Montreal   Aquatics           KÖHLER, Christa\n",
       "1      Montreal   Aquatics       KOSENKOV, Aleksandr\n",
       "2      Montreal   Aquatics      BOGGS, Philip George\n",
       "3      Montreal   Aquatics  CAGNOTTO, Giorgio Franco\n",
       "4      Montreal   Aquatics    WILSON, Deborah Keplar\n",
       "...         ...        ...                       ...\n",
       "15428   Beijing  Wrestling        GUENOT, Christophe\n",
       "15429   Beijing  Wrestling       KVIRKELIA, Manuchar\n",
       "15430   Beijing  Wrestling          RAHIMOV, Vitaliy\n",
       "15431   Beijing  Wrestling            GUENOT, Steeve\n",
       "15432   Beijing  Wrestling             LOPEZ, Mijain\n",
       "\n",
       "[15433 rows x 3 columns]"
      ]
     },
     "execution_count": 43,
     "metadata": {},
     "output_type": "execute_result"
    }
   ],
   "source": [
    "oo[['City', 'Sport', 'Athlete']] # This returns the Three Series specidied as 'City, Edition, Athlete', Thus, one call multiple series in the same cell on teh DataFrame - In so doing, You have actually created a new DataFrame from series. \n",
    "\n",
    "oo1 = oo[['City', 'Sport', 'Athlete']] # This asigns the new DataFrame with series above to a new  DataFrame called oo1 & thus i call it as previously seen\n",
    "\n",
    "oo1"
   ]
  },
  {
   "cell_type": "markdown",
   "metadata": {},
   "source": [
    "# Understanding the Type"
   ]
  },
  {
   "cell_type": "code",
   "execution_count": 45,
   "metadata": {},
   "outputs": [
    {
     "data": {
      "text/plain": [
       "pandas.core.frame.DataFrame"
      ]
     },
     "execution_count": 45,
     "metadata": {},
     "output_type": "execute_result"
    }
   ],
   "source": [
    "type(oo) # We already know taht this is DataFrame object type "
   ]
  },
  {
   "cell_type": "code",
   "execution_count": 48,
   "metadata": {},
   "outputs": [
    {
     "data": {
      "text/plain": [
       "pandas.core.series.Series"
      ]
     },
     "execution_count": 48,
     "metadata": {},
     "output_type": "execute_result"
    }
   ],
   "source": [
    "type(oo['City']) # Ti\\his returns  A Series tyoe as previously seen"
   ]
  },
  {
   "cell_type": "code",
   "execution_count": 49,
   "metadata": {},
   "outputs": [
    {
     "data": {
      "text/plain": [
       "pandas.core.series.Series"
      ]
     },
     "execution_count": 49,
     "metadata": {},
     "output_type": "execute_result"
    }
   ],
   "source": [
    "type(oo.City)"
   ]
  },
  {
   "cell_type": "code",
   "execution_count": 50,
   "metadata": {},
   "outputs": [
    {
     "data": {
      "text/plain": [
       "pandas.core.frame.DataFrame"
      ]
     },
     "execution_count": 50,
     "metadata": {},
     "output_type": "execute_result"
    }
   ],
   "source": [
    "type(oo1) # This also confrims that oo1 is a DataFrame - as it contains a couple of series or a comination of series/columns "
   ]
  },
  {
   "cell_type": "markdown",
   "metadata": {},
   "source": [
    "# Simple Exercise "
   ]
  },
  {
   "cell_type": "markdown",
   "metadata": {},
   "source": [
    "1. List our Olympics DataFrame\n",
    "\n",
    "2. List only the Country_code using both the ['] and dot notation. What type is this object?\n",
    "\n",
    "3. List the Sport, City, Athlete Name, and Medal columns. What type is this object?\n"
   ]
  },
  {
   "cell_type": "markdown",
   "metadata": {},
   "source": [
    "# Data Input and Validation"
   ]
  },
  {
   "cell_type": "markdown",
   "metadata": {},
   "source": [
    "In this section, we will cover how to read and validate a DataFrame into pandas\n",
    "\n",
    "input - covers : read_excel(...), read_json(...), read_sql_table(...), read_csv(...) among others \n",
    "\n",
    "From the begining, we have been using read_excel(...) method so far!\n",
    "\n",
    "All thses methods and others require one to specify the PATH to the file where the DataFrame is stored, and has functions and arguments below, \n",
    "\n",
    "E.G.  pd.read_excel(filepath, ..., skiprows =None,..) and other. How to access these methods or arguments : Use TAB Key as - "
   ]
  },
  {
   "cell_type": "code",
   "execution_count": null,
   "metadata": {},
   "outputs": [],
   "source": [
    "pd.read_csv() # The Magic is using SHIFT and TAB Keys while the cursor inside the paranthesis or barckets"
   ]
  },
  {
   "cell_type": "markdown",
   "metadata": {},
   "source": [
    "# Shape Attribute "
   ]
  },
  {
   "cell_type": "markdown",
   "metadata": {},
   "source": [
    "This Returns the Tuple of the DataFrame - This is useful for contirming the dimension of the DataFrame"
   ]
  },
  {
   "cell_type": "code",
   "execution_count": 52,
   "metadata": {},
   "outputs": [
    {
     "data": {
      "text/plain": [
       "(15433, 11)"
      ]
     },
     "execution_count": 52,
     "metadata": {},
     "output_type": "execute_result"
    }
   ],
   "source": [
    "oo.shape"
   ]
  },
  {
   "cell_type": "code",
   "execution_count": 54,
   "metadata": {},
   "outputs": [
    {
     "data": {
      "text/plain": [
       "15433"
      ]
     },
     "execution_count": 54,
     "metadata": {},
     "output_type": "execute_result"
    }
   ],
   "source": [
    "oo.shape[0]"
   ]
  },
  {
   "cell_type": "code",
   "execution_count": 55,
   "metadata": {},
   "outputs": [
    {
     "data": {
      "text/plain": [
       "11"
      ]
     },
     "execution_count": 55,
     "metadata": {},
     "output_type": "execute_result"
    }
   ],
   "source": [
    "oo.shape[1]"
   ]
  },
  {
   "cell_type": "markdown",
   "metadata": {},
   "source": [
    "# Info "
   ]
  },
  {
   "cell_type": "markdown",
   "metadata": {},
   "source": [
    "This provides the information about number of entries, missing (number of non-null entries) information and summary of the DataFrame. See below"
   ]
  },
  {
   "cell_type": "code",
   "execution_count": 56,
   "metadata": {},
   "outputs": [
    {
     "name": "stdout",
     "output_type": "stream",
     "text": [
      "<class 'pandas.core.frame.DataFrame'>\n",
      "RangeIndex: 15433 entries, 0 to 15432\n",
      "Data columns (total 11 columns):\n",
      " #   Column        Non-Null Count  Dtype  \n",
      "---  ------        --------------  -----  \n",
      " 0   City          15316 non-null  object \n",
      " 1   Year          15316 non-null  float64\n",
      " 2   Sport         15316 non-null  object \n",
      " 3   Discipline    15316 non-null  object \n",
      " 4   Event         15316 non-null  object \n",
      " 5   Athlete       15316 non-null  object \n",
      " 6   Gender        15316 non-null  object \n",
      " 7   Country_Code  15316 non-null  object \n",
      " 8   Country       15316 non-null  object \n",
      " 9   Event_gender  15316 non-null  object \n",
      " 10  Medal         15316 non-null  object \n",
      "dtypes: float64(1), object(10)\n",
      "memory usage: 1.3+ MB\n"
     ]
    }
   ],
   "source": [
    "oo.info() # This gives us detail information about the DataFrame"
   ]
  },
  {
   "cell_type": "markdown",
   "metadata": {},
   "source": [
    "# Basic Data ANALYSIS Using Pandas"
   ]
  },
  {
   "cell_type": "markdown",
   "metadata": {},
   "source": [
    "The Are various Methods to use to do data analysis in Pandas "
   ]
  },
  {
   "cell_type": "markdown",
   "metadata": {},
   "source": [
    "# value_counts()"
   ]
  },
  {
   "cell_type": "markdown",
   "metadata": {},
   "source": [
    "value_count() is one of the most useful methods in pandas. It returns the Series object counting all unique values. The first value is the most occuring values, the second is the most occuring , and so on. However, this order can be reversed by sending argumnet to True, and dropna - repsents the missing values or null values or cells -  set dropna = False "
   ]
  },
  {
   "cell_type": "code",
   "execution_count": 58,
   "metadata": {},
   "outputs": [
    {
     "data": {
      "text/plain": [
       "Beijing        2042\n",
       "Sydney         2015\n",
       "Athens         1998\n",
       "Atlanta        1859\n",
       "Barcelona      1705\n",
       "Seoul          1546\n",
       "Los Angeles    1459\n",
       "Moscow         1387\n",
       "Montreal       1305\n",
       "Name: City, dtype: int64"
      ]
     },
     "execution_count": 58,
     "metadata": {},
     "output_type": "execute_result"
    }
   ],
   "source": [
    "oo.City.value_counts() # Counts teh cities ain DataFrame"
   ]
  },
  {
   "cell_type": "code",
   "execution_count": 59,
   "metadata": {},
   "outputs": [
    {
     "data": {
      "text/plain": [
       "Men      9388\n",
       "Women    5928\n",
       "Name: Gender, dtype: int64"
      ]
     },
     "execution_count": 59,
     "metadata": {},
     "output_type": "execute_result"
    }
   ],
   "source": [
    "oo.Gender.value_counts() # Returns the count of mendals by gender in ascending order or more first and then others "
   ]
  },
  {
   "cell_type": "code",
   "execution_count": 61,
   "metadata": {},
   "outputs": [
    {
     "data": {
      "text/plain": [
       "NaN       117\n",
       "Women    5928\n",
       "Men      9388\n",
       "Name: Gender, dtype: int64"
      ]
     },
     "execution_count": 61,
     "metadata": {},
     "output_type": "execute_result"
    }
   ],
   "source": [
    "oo.Gender.value_counts(ascending=True) # This swaps the order of the presentation of output, with Women first and the Men"
   ]
  },
  {
   "cell_type": "code",
   "execution_count": 62,
   "metadata": {},
   "outputs": [
    {
     "data": {
      "text/plain": [
       "NaN       117\n",
       "Women    5928\n",
       "Men      9388\n",
       "Name: Gender, dtype: int64"
      ]
     },
     "execution_count": 62,
     "metadata": {},
     "output_type": "execute_result"
    }
   ],
   "source": [
    "oo.Gender.value_counts(ascending=True, dropna=False) # By settig the dropna = False returns the value with all cells with missing values (There are about 117 missing values in this DataFrame)"
   ]
  },
  {
   "cell_type": "markdown",
   "metadata": {},
   "source": [
    "# sort_values()"
   ]
  },
  {
   "cell_type": "markdown",
   "metadata": {},
   "source": [
    "This method sorts the values basing on the axis and in ascending order: Series.sort_values( and takes in arguments here)"
   ]
  },
  {
   "cell_type": "code",
   "execution_count": 67,
   "metadata": {},
   "outputs": [
    {
     "data": {
      "text/html": [
       "<div>\n",
       "<style scoped>\n",
       "    .dataframe tbody tr th:only-of-type {\n",
       "        vertical-align: middle;\n",
       "    }\n",
       "\n",
       "    .dataframe tbody tr th {\n",
       "        vertical-align: top;\n",
       "    }\n",
       "\n",
       "    .dataframe thead th {\n",
       "        text-align: right;\n",
       "    }\n",
       "</style>\n",
       "<table border=\"1\" class=\"dataframe\">\n",
       "  <thead>\n",
       "    <tr style=\"text-align: right;\">\n",
       "      <th></th>\n",
       "      <th>City</th>\n",
       "      <th>Year</th>\n",
       "      <th>Sport</th>\n",
       "      <th>Discipline</th>\n",
       "      <th>Event</th>\n",
       "      <th>Athlete</th>\n",
       "      <th>Gender</th>\n",
       "      <th>Country_Code</th>\n",
       "      <th>Country</th>\n",
       "      <th>Event_gender</th>\n",
       "      <th>Medal</th>\n",
       "    </tr>\n",
       "  </thead>\n",
       "  <tbody>\n",
       "    <tr>\n",
       "      <th>7767</th>\n",
       "      <td>Atlanta</td>\n",
       "      <td>1996.0</td>\n",
       "      <td>Aquatics</td>\n",
       "      <td>Water polo</td>\n",
       "      <td>water polo</td>\n",
       "      <td>ABARCA, Jose Maria</td>\n",
       "      <td>Men</td>\n",
       "      <td>ESP</td>\n",
       "      <td>Spain</td>\n",
       "      <td>M</td>\n",
       "      <td>Gold</td>\n",
       "    </tr>\n",
       "    <tr>\n",
       "      <th>2875</th>\n",
       "      <td>Los Angeles</td>\n",
       "      <td>1984.0</td>\n",
       "      <td>Aquatics</td>\n",
       "      <td>Swimming</td>\n",
       "      <td>4x100m medley relay</td>\n",
       "      <td>ABDO, Reema</td>\n",
       "      <td>Women</td>\n",
       "      <td>CAN</td>\n",
       "      <td>Canada</td>\n",
       "      <td>W</td>\n",
       "      <td>Bronze</td>\n",
       "    </tr>\n",
       "    <tr>\n",
       "      <th>1479</th>\n",
       "      <td>Moscow</td>\n",
       "      <td>1980.0</td>\n",
       "      <td>Aquatics</td>\n",
       "      <td>Swimming</td>\n",
       "      <td>4x100m medley relay</td>\n",
       "      <td>ABRAHAM, Gary</td>\n",
       "      <td>Men</td>\n",
       "      <td>GBR</td>\n",
       "      <td>United Kingdom</td>\n",
       "      <td>M</td>\n",
       "      <td>Bronze</td>\n",
       "    </tr>\n",
       "    <tr>\n",
       "      <th>13526</th>\n",
       "      <td>Beijing</td>\n",
       "      <td>2008.0</td>\n",
       "      <td>Aquatics</td>\n",
       "      <td>Swimming</td>\n",
       "      <td>800m freestyle</td>\n",
       "      <td>ADLINGTON, Rebecca</td>\n",
       "      <td>Women</td>\n",
       "      <td>GBR</td>\n",
       "      <td>United Kingdom</td>\n",
       "      <td>W</td>\n",
       "      <td>Gold</td>\n",
       "    </tr>\n",
       "    <tr>\n",
       "      <th>13550</th>\n",
       "      <td>Beijing</td>\n",
       "      <td>2008.0</td>\n",
       "      <td>Aquatics</td>\n",
       "      <td>Swimming</td>\n",
       "      <td>400m freestyle</td>\n",
       "      <td>ADLINGTON, Rebecca</td>\n",
       "      <td>Women</td>\n",
       "      <td>GBR</td>\n",
       "      <td>United Kingdom</td>\n",
       "      <td>W</td>\n",
       "      <td>Gold</td>\n",
       "    </tr>\n",
       "    <tr>\n",
       "      <th>...</th>\n",
       "      <td>...</td>\n",
       "      <td>...</td>\n",
       "      <td>...</td>\n",
       "      <td>...</td>\n",
       "      <td>...</td>\n",
       "      <td>...</td>\n",
       "      <td>...</td>\n",
       "      <td>...</td>\n",
       "      <td>...</td>\n",
       "      <td>...</td>\n",
       "      <td>...</td>\n",
       "    </tr>\n",
       "    <tr>\n",
       "      <th>882</th>\n",
       "      <td>NaN</td>\n",
       "      <td>NaN</td>\n",
       "      <td>NaN</td>\n",
       "      <td>NaN</td>\n",
       "      <td>NaN</td>\n",
       "      <td>NaN</td>\n",
       "      <td>NaN</td>\n",
       "      <td>NaN</td>\n",
       "      <td>NaN</td>\n",
       "      <td>NaN</td>\n",
       "      <td>NaN</td>\n",
       "    </tr>\n",
       "    <tr>\n",
       "      <th>883</th>\n",
       "      <td>NaN</td>\n",
       "      <td>NaN</td>\n",
       "      <td>NaN</td>\n",
       "      <td>NaN</td>\n",
       "      <td>NaN</td>\n",
       "      <td>NaN</td>\n",
       "      <td>NaN</td>\n",
       "      <td>NaN</td>\n",
       "      <td>NaN</td>\n",
       "      <td>NaN</td>\n",
       "      <td>NaN</td>\n",
       "    </tr>\n",
       "    <tr>\n",
       "      <th>884</th>\n",
       "      <td>NaN</td>\n",
       "      <td>NaN</td>\n",
       "      <td>NaN</td>\n",
       "      <td>NaN</td>\n",
       "      <td>NaN</td>\n",
       "      <td>NaN</td>\n",
       "      <td>NaN</td>\n",
       "      <td>NaN</td>\n",
       "      <td>NaN</td>\n",
       "      <td>NaN</td>\n",
       "      <td>NaN</td>\n",
       "    </tr>\n",
       "    <tr>\n",
       "      <th>885</th>\n",
       "      <td>NaN</td>\n",
       "      <td>NaN</td>\n",
       "      <td>NaN</td>\n",
       "      <td>NaN</td>\n",
       "      <td>NaN</td>\n",
       "      <td>NaN</td>\n",
       "      <td>NaN</td>\n",
       "      <td>NaN</td>\n",
       "      <td>NaN</td>\n",
       "      <td>NaN</td>\n",
       "      <td>NaN</td>\n",
       "    </tr>\n",
       "    <tr>\n",
       "      <th>886</th>\n",
       "      <td>NaN</td>\n",
       "      <td>NaN</td>\n",
       "      <td>NaN</td>\n",
       "      <td>NaN</td>\n",
       "      <td>NaN</td>\n",
       "      <td>NaN</td>\n",
       "      <td>NaN</td>\n",
       "      <td>NaN</td>\n",
       "      <td>NaN</td>\n",
       "      <td>NaN</td>\n",
       "      <td>NaN</td>\n",
       "    </tr>\n",
       "  </tbody>\n",
       "</table>\n",
       "<p>15433 rows × 11 columns</p>\n",
       "</div>"
      ],
      "text/plain": [
       "              City    Year     Sport  Discipline                Event  \\\n",
       "7767       Atlanta  1996.0  Aquatics  Water polo           water polo   \n",
       "2875   Los Angeles  1984.0  Aquatics    Swimming  4x100m medley relay   \n",
       "1479        Moscow  1980.0  Aquatics    Swimming  4x100m medley relay   \n",
       "13526      Beijing  2008.0  Aquatics    Swimming       800m freestyle   \n",
       "13550      Beijing  2008.0  Aquatics    Swimming       400m freestyle   \n",
       "...            ...     ...       ...         ...                  ...   \n",
       "882            NaN     NaN       NaN         NaN                  NaN   \n",
       "883            NaN     NaN       NaN         NaN                  NaN   \n",
       "884            NaN     NaN       NaN         NaN                  NaN   \n",
       "885            NaN     NaN       NaN         NaN                  NaN   \n",
       "886            NaN     NaN       NaN         NaN                  NaN   \n",
       "\n",
       "                  Athlete Gender Country_Code         Country Event_gender  \\\n",
       "7767   ABARCA, Jose Maria    Men          ESP           Spain            M   \n",
       "2875          ABDO, Reema  Women          CAN          Canada            W   \n",
       "1479        ABRAHAM, Gary    Men          GBR  United Kingdom            M   \n",
       "13526  ADLINGTON, Rebecca  Women          GBR  United Kingdom            W   \n",
       "13550  ADLINGTON, Rebecca  Women          GBR  United Kingdom            W   \n",
       "...                   ...    ...          ...             ...          ...   \n",
       "882                   NaN    NaN          NaN             NaN          NaN   \n",
       "883                   NaN    NaN          NaN             NaN          NaN   \n",
       "884                   NaN    NaN          NaN             NaN          NaN   \n",
       "885                   NaN    NaN          NaN             NaN          NaN   \n",
       "886                   NaN    NaN          NaN             NaN          NaN   \n",
       "\n",
       "        Medal  \n",
       "7767     Gold  \n",
       "2875   Bronze  \n",
       "1479   Bronze  \n",
       "13526    Gold  \n",
       "13550    Gold  \n",
       "...       ...  \n",
       "882       NaN  \n",
       "883       NaN  \n",
       "884       NaN  \n",
       "885       NaN  \n",
       "886       NaN  \n",
       "\n",
       "[15433 rows x 11 columns]"
      ]
     },
     "execution_count": 67,
     "metadata": {},
     "output_type": "execute_result"
    }
   ],
   "source": [
    "oo.sort_values(by=['Sport', 'Athlete']) # This sorts the DataFrame according to Sport first in ascendign order and Athletes name next also in ascending oder"
   ]
  },
  {
   "cell_type": "markdown",
   "metadata": {},
   "source": [
    "# Boolean Indexing "
   ]
  },
  {
   "cell_type": "markdown",
   "metadata": {},
   "source": [
    "This method can used to select and filter Data. Based on DataFrame , the function selcted True and False . We use &,| and ~ to represent AND, OR and NOT , which is not the case in most programming languages "
   ]
  },
  {
   "cell_type": "code",
   "execution_count": 69,
   "metadata": {},
   "outputs": [
    {
     "data": {
      "text/html": [
       "<div>\n",
       "<style scoped>\n",
       "    .dataframe tbody tr th:only-of-type {\n",
       "        vertical-align: middle;\n",
       "    }\n",
       "\n",
       "    .dataframe tbody tr th {\n",
       "        vertical-align: top;\n",
       "    }\n",
       "\n",
       "    .dataframe thead th {\n",
       "        text-align: right;\n",
       "    }\n",
       "</style>\n",
       "<table border=\"1\" class=\"dataframe\">\n",
       "  <thead>\n",
       "    <tr style=\"text-align: right;\">\n",
       "      <th></th>\n",
       "      <th>City</th>\n",
       "      <th>Year</th>\n",
       "      <th>Sport</th>\n",
       "      <th>Discipline</th>\n",
       "      <th>Event</th>\n",
       "      <th>Athlete</th>\n",
       "      <th>Gender</th>\n",
       "      <th>Country_Code</th>\n",
       "      <th>Country</th>\n",
       "      <th>Event_gender</th>\n",
       "      <th>Medal</th>\n",
       "    </tr>\n",
       "  </thead>\n",
       "  <tbody>\n",
       "    <tr>\n",
       "      <th>0</th>\n",
       "      <td>Montreal</td>\n",
       "      <td>1976.0</td>\n",
       "      <td>Aquatics</td>\n",
       "      <td>Diving</td>\n",
       "      <td>3m springboard</td>\n",
       "      <td>KÖHLER, Christa</td>\n",
       "      <td>Women</td>\n",
       "      <td>GDR</td>\n",
       "      <td>East Germany</td>\n",
       "      <td>W</td>\n",
       "      <td>Silver</td>\n",
       "    </tr>\n",
       "    <tr>\n",
       "      <th>1</th>\n",
       "      <td>Montreal</td>\n",
       "      <td>1976.0</td>\n",
       "      <td>Aquatics</td>\n",
       "      <td>Diving</td>\n",
       "      <td>3m springboard</td>\n",
       "      <td>KOSENKOV, Aleksandr</td>\n",
       "      <td>Men</td>\n",
       "      <td>URS</td>\n",
       "      <td>Soviet Union</td>\n",
       "      <td>M</td>\n",
       "      <td>Bronze</td>\n",
       "    </tr>\n",
       "    <tr>\n",
       "      <th>2</th>\n",
       "      <td>Montreal</td>\n",
       "      <td>1976.0</td>\n",
       "      <td>Aquatics</td>\n",
       "      <td>Diving</td>\n",
       "      <td>3m springboard</td>\n",
       "      <td>BOGGS, Philip George</td>\n",
       "      <td>Men</td>\n",
       "      <td>USA</td>\n",
       "      <td>United States</td>\n",
       "      <td>M</td>\n",
       "      <td>Gold</td>\n",
       "    </tr>\n",
       "    <tr>\n",
       "      <th>3</th>\n",
       "      <td>Montreal</td>\n",
       "      <td>1976.0</td>\n",
       "      <td>Aquatics</td>\n",
       "      <td>Diving</td>\n",
       "      <td>3m springboard</td>\n",
       "      <td>CAGNOTTO, Giorgio Franco</td>\n",
       "      <td>Men</td>\n",
       "      <td>ITA</td>\n",
       "      <td>Italy</td>\n",
       "      <td>M</td>\n",
       "      <td>Silver</td>\n",
       "    </tr>\n",
       "    <tr>\n",
       "      <th>4</th>\n",
       "      <td>Montreal</td>\n",
       "      <td>1976.0</td>\n",
       "      <td>Aquatics</td>\n",
       "      <td>Diving</td>\n",
       "      <td>10m platform</td>\n",
       "      <td>WILSON, Deborah Keplar</td>\n",
       "      <td>Women</td>\n",
       "      <td>USA</td>\n",
       "      <td>United States</td>\n",
       "      <td>W</td>\n",
       "      <td>Bronze</td>\n",
       "    </tr>\n",
       "  </tbody>\n",
       "</table>\n",
       "</div>"
      ],
      "text/plain": [
       "       City    Year     Sport Discipline           Event  \\\n",
       "0  Montreal  1976.0  Aquatics     Diving  3m springboard   \n",
       "1  Montreal  1976.0  Aquatics     Diving  3m springboard   \n",
       "2  Montreal  1976.0  Aquatics     Diving  3m springboard   \n",
       "3  Montreal  1976.0  Aquatics     Diving  3m springboard   \n",
       "4  Montreal  1976.0  Aquatics     Diving    10m platform   \n",
       "\n",
       "                    Athlete Gender Country_Code        Country Event_gender  \\\n",
       "0           KÖHLER, Christa  Women          GDR   East Germany            W   \n",
       "1       KOSENKOV, Aleksandr    Men          URS   Soviet Union            M   \n",
       "2      BOGGS, Philip George    Men          USA  United States            M   \n",
       "3  CAGNOTTO, Giorgio Franco    Men          ITA          Italy            M   \n",
       "4    WILSON, Deborah Keplar  Women          USA  United States            W   \n",
       "\n",
       "    Medal  \n",
       "0  Silver  \n",
       "1  Bronze  \n",
       "2    Gold  \n",
       "3  Silver  \n",
       "4  Bronze  "
      ]
     },
     "execution_count": 69,
     "metadata": {},
     "output_type": "execute_result"
    }
   ],
   "source": [
    "oo.head()"
   ]
  },
  {
   "cell_type": "code",
   "execution_count": 70,
   "metadata": {},
   "outputs": [
    {
     "data": {
      "text/plain": [
       "0        False\n",
       "1        False\n",
       "2         True\n",
       "3        False\n",
       "4        False\n",
       "         ...  \n",
       "15428    False\n",
       "15429     True\n",
       "15430    False\n",
       "15431     True\n",
       "15432     True\n",
       "Name: Medal, Length: 15433, dtype: bool"
      ]
     },
     "execution_count": 70,
     "metadata": {},
     "output_type": "execute_result"
    }
   ],
   "source": [
    "oo.Medal ==\"Gold\" # This returns columns or Series where an athlete won a Gold Medal"
   ]
  },
  {
   "cell_type": "code",
   "execution_count": 73,
   "metadata": {},
   "outputs": [
    {
     "data": {
      "text/html": [
       "<div>\n",
       "<style scoped>\n",
       "    .dataframe tbody tr th:only-of-type {\n",
       "        vertical-align: middle;\n",
       "    }\n",
       "\n",
       "    .dataframe tbody tr th {\n",
       "        vertical-align: top;\n",
       "    }\n",
       "\n",
       "    .dataframe thead th {\n",
       "        text-align: right;\n",
       "    }\n",
       "</style>\n",
       "<table border=\"1\" class=\"dataframe\">\n",
       "  <thead>\n",
       "    <tr style=\"text-align: right;\">\n",
       "      <th></th>\n",
       "      <th>City</th>\n",
       "      <th>Year</th>\n",
       "      <th>Sport</th>\n",
       "      <th>Discipline</th>\n",
       "      <th>Event</th>\n",
       "      <th>Athlete</th>\n",
       "      <th>Gender</th>\n",
       "      <th>Country_Code</th>\n",
       "      <th>Country</th>\n",
       "      <th>Event_gender</th>\n",
       "      <th>Medal</th>\n",
       "    </tr>\n",
       "  </thead>\n",
       "  <tbody>\n",
       "    <tr>\n",
       "      <th>2</th>\n",
       "      <td>Montreal</td>\n",
       "      <td>1976.0</td>\n",
       "      <td>Aquatics</td>\n",
       "      <td>Diving</td>\n",
       "      <td>3m springboard</td>\n",
       "      <td>BOGGS, Philip George</td>\n",
       "      <td>Men</td>\n",
       "      <td>USA</td>\n",
       "      <td>United States</td>\n",
       "      <td>M</td>\n",
       "      <td>Gold</td>\n",
       "    </tr>\n",
       "    <tr>\n",
       "      <th>6</th>\n",
       "      <td>Montreal</td>\n",
       "      <td>1976.0</td>\n",
       "      <td>Aquatics</td>\n",
       "      <td>Diving</td>\n",
       "      <td>10m platform</td>\n",
       "      <td>VAYTSEKHOVSKAYA, Elena</td>\n",
       "      <td>Women</td>\n",
       "      <td>URS</td>\n",
       "      <td>Soviet Union</td>\n",
       "      <td>W</td>\n",
       "      <td>Gold</td>\n",
       "    </tr>\n",
       "    <tr>\n",
       "      <th>8</th>\n",
       "      <td>Montreal</td>\n",
       "      <td>1976.0</td>\n",
       "      <td>Aquatics</td>\n",
       "      <td>Diving</td>\n",
       "      <td>10m platform</td>\n",
       "      <td>DIBIASI, Klaus</td>\n",
       "      <td>Men</td>\n",
       "      <td>ITA</td>\n",
       "      <td>Italy</td>\n",
       "      <td>M</td>\n",
       "      <td>Gold</td>\n",
       "    </tr>\n",
       "    <tr>\n",
       "      <th>11</th>\n",
       "      <td>Montreal</td>\n",
       "      <td>1976.0</td>\n",
       "      <td>Aquatics</td>\n",
       "      <td>Diving</td>\n",
       "      <td>3m springboard</td>\n",
       "      <td>CHANDLER, Jennifer Kay</td>\n",
       "      <td>Women</td>\n",
       "      <td>USA</td>\n",
       "      <td>United States</td>\n",
       "      <td>W</td>\n",
       "      <td>Gold</td>\n",
       "    </tr>\n",
       "    <tr>\n",
       "      <th>12</th>\n",
       "      <td>Montreal</td>\n",
       "      <td>1976.0</td>\n",
       "      <td>Aquatics</td>\n",
       "      <td>Swimming</td>\n",
       "      <td>4x100m freestyle relay</td>\n",
       "      <td>BABASHOFF, Shirley Farber</td>\n",
       "      <td>Women</td>\n",
       "      <td>USA</td>\n",
       "      <td>United States</td>\n",
       "      <td>W</td>\n",
       "      <td>Gold</td>\n",
       "    </tr>\n",
       "    <tr>\n",
       "      <th>...</th>\n",
       "      <td>...</td>\n",
       "      <td>...</td>\n",
       "      <td>...</td>\n",
       "      <td>...</td>\n",
       "      <td>...</td>\n",
       "      <td>...</td>\n",
       "      <td>...</td>\n",
       "      <td>...</td>\n",
       "      <td>...</td>\n",
       "      <td>...</td>\n",
       "      <td>...</td>\n",
       "    </tr>\n",
       "    <tr>\n",
       "      <th>15422</th>\n",
       "      <td>Beijing</td>\n",
       "      <td>2008.0</td>\n",
       "      <td>Wrestling</td>\n",
       "      <td>Wrestling Gre-R</td>\n",
       "      <td>- 55kg</td>\n",
       "      <td>MANKIEV, Nazyr</td>\n",
       "      <td>Men</td>\n",
       "      <td>RUS</td>\n",
       "      <td>Russia</td>\n",
       "      <td>M</td>\n",
       "      <td>Gold</td>\n",
       "    </tr>\n",
       "    <tr>\n",
       "      <th>15423</th>\n",
       "      <td>Beijing</td>\n",
       "      <td>2008.0</td>\n",
       "      <td>Wrestling</td>\n",
       "      <td>Wrestling Gre-R</td>\n",
       "      <td>74 - 84kg</td>\n",
       "      <td>MINGUZZI, Andrea</td>\n",
       "      <td>Men</td>\n",
       "      <td>ITA</td>\n",
       "      <td>Italy</td>\n",
       "      <td>M</td>\n",
       "      <td>Gold</td>\n",
       "    </tr>\n",
       "    <tr>\n",
       "      <th>15429</th>\n",
       "      <td>Beijing</td>\n",
       "      <td>2008.0</td>\n",
       "      <td>Wrestling</td>\n",
       "      <td>Wrestling Gre-R</td>\n",
       "      <td>66 - 74kg</td>\n",
       "      <td>KVIRKELIA, Manuchar</td>\n",
       "      <td>Men</td>\n",
       "      <td>GEO</td>\n",
       "      <td>Georgia</td>\n",
       "      <td>M</td>\n",
       "      <td>Gold</td>\n",
       "    </tr>\n",
       "    <tr>\n",
       "      <th>15431</th>\n",
       "      <td>Beijing</td>\n",
       "      <td>2008.0</td>\n",
       "      <td>Wrestling</td>\n",
       "      <td>Wrestling Gre-R</td>\n",
       "      <td>60 - 66kg</td>\n",
       "      <td>GUENOT, Steeve</td>\n",
       "      <td>Men</td>\n",
       "      <td>FRA</td>\n",
       "      <td>France</td>\n",
       "      <td>M</td>\n",
       "      <td>Gold</td>\n",
       "    </tr>\n",
       "    <tr>\n",
       "      <th>15432</th>\n",
       "      <td>Beijing</td>\n",
       "      <td>2008.0</td>\n",
       "      <td>Wrestling</td>\n",
       "      <td>Wrestling Gre-R</td>\n",
       "      <td>96 - 120kg</td>\n",
       "      <td>LOPEZ, Mijain</td>\n",
       "      <td>Men</td>\n",
       "      <td>CUB</td>\n",
       "      <td>Cuba</td>\n",
       "      <td>M</td>\n",
       "      <td>Gold</td>\n",
       "    </tr>\n",
       "  </tbody>\n",
       "</table>\n",
       "<p>5042 rows × 11 columns</p>\n",
       "</div>"
      ],
      "text/plain": [
       "           City    Year      Sport       Discipline                   Event  \\\n",
       "2      Montreal  1976.0   Aquatics           Diving          3m springboard   \n",
       "6      Montreal  1976.0   Aquatics           Diving            10m platform   \n",
       "8      Montreal  1976.0   Aquatics           Diving            10m platform   \n",
       "11     Montreal  1976.0   Aquatics           Diving          3m springboard   \n",
       "12     Montreal  1976.0   Aquatics         Swimming  4x100m freestyle relay   \n",
       "...         ...     ...        ...              ...                     ...   \n",
       "15422   Beijing  2008.0  Wrestling  Wrestling Gre-R                  - 55kg   \n",
       "15423   Beijing  2008.0  Wrestling  Wrestling Gre-R               74 - 84kg   \n",
       "15429   Beijing  2008.0  Wrestling  Wrestling Gre-R               66 - 74kg   \n",
       "15431   Beijing  2008.0  Wrestling  Wrestling Gre-R               60 - 66kg   \n",
       "15432   Beijing  2008.0  Wrestling  Wrestling Gre-R              96 - 120kg   \n",
       "\n",
       "                         Athlete Gender Country_Code        Country  \\\n",
       "2           BOGGS, Philip George    Men          USA  United States   \n",
       "6         VAYTSEKHOVSKAYA, Elena  Women          URS   Soviet Union   \n",
       "8                 DIBIASI, Klaus    Men          ITA          Italy   \n",
       "11        CHANDLER, Jennifer Kay  Women          USA  United States   \n",
       "12     BABASHOFF, Shirley Farber  Women          USA  United States   \n",
       "...                          ...    ...          ...            ...   \n",
       "15422             MANKIEV, Nazyr    Men          RUS         Russia   \n",
       "15423           MINGUZZI, Andrea    Men          ITA          Italy   \n",
       "15429        KVIRKELIA, Manuchar    Men          GEO        Georgia   \n",
       "15431             GUENOT, Steeve    Men          FRA         France   \n",
       "15432              LOPEZ, Mijain    Men          CUB           Cuba   \n",
       "\n",
       "      Event_gender Medal  \n",
       "2                M  Gold  \n",
       "6                W  Gold  \n",
       "8                M  Gold  \n",
       "11               W  Gold  \n",
       "12               W  Gold  \n",
       "...            ...   ...  \n",
       "15422            M  Gold  \n",
       "15423            M  Gold  \n",
       "15429            M  Gold  \n",
       "15431            M  Gold  \n",
       "15432            M  Gold  \n",
       "\n",
       "[5042 rows x 11 columns]"
      ]
     },
     "execution_count": 73,
     "metadata": {},
     "output_type": "execute_result"
    }
   ],
   "source": [
    "oo[oo.Medal =='Gold'] # Encompasing the Above Code in Square brackets returns only cells where an athlete won a gold mendal only"
   ]
  },
  {
   "cell_type": "code",
   "execution_count": 74,
   "metadata": {},
   "outputs": [
    {
     "data": {
      "text/html": [
       "<div>\n",
       "<style scoped>\n",
       "    .dataframe tbody tr th:only-of-type {\n",
       "        vertical-align: middle;\n",
       "    }\n",
       "\n",
       "    .dataframe tbody tr th {\n",
       "        vertical-align: top;\n",
       "    }\n",
       "\n",
       "    .dataframe thead th {\n",
       "        text-align: right;\n",
       "    }\n",
       "</style>\n",
       "<table border=\"1\" class=\"dataframe\">\n",
       "  <thead>\n",
       "    <tr style=\"text-align: right;\">\n",
       "      <th></th>\n",
       "      <th>City</th>\n",
       "      <th>Year</th>\n",
       "      <th>Sport</th>\n",
       "      <th>Discipline</th>\n",
       "      <th>Event</th>\n",
       "      <th>Athlete</th>\n",
       "      <th>Gender</th>\n",
       "      <th>Country_Code</th>\n",
       "      <th>Country</th>\n",
       "      <th>Event_gender</th>\n",
       "      <th>Medal</th>\n",
       "    </tr>\n",
       "  </thead>\n",
       "  <tbody>\n",
       "    <tr>\n",
       "      <th>6</th>\n",
       "      <td>Montreal</td>\n",
       "      <td>1976.0</td>\n",
       "      <td>Aquatics</td>\n",
       "      <td>Diving</td>\n",
       "      <td>10m platform</td>\n",
       "      <td>VAYTSEKHOVSKAYA, Elena</td>\n",
       "      <td>Women</td>\n",
       "      <td>URS</td>\n",
       "      <td>Soviet Union</td>\n",
       "      <td>W</td>\n",
       "      <td>Gold</td>\n",
       "    </tr>\n",
       "    <tr>\n",
       "      <th>11</th>\n",
       "      <td>Montreal</td>\n",
       "      <td>1976.0</td>\n",
       "      <td>Aquatics</td>\n",
       "      <td>Diving</td>\n",
       "      <td>3m springboard</td>\n",
       "      <td>CHANDLER, Jennifer Kay</td>\n",
       "      <td>Women</td>\n",
       "      <td>USA</td>\n",
       "      <td>United States</td>\n",
       "      <td>W</td>\n",
       "      <td>Gold</td>\n",
       "    </tr>\n",
       "    <tr>\n",
       "      <th>12</th>\n",
       "      <td>Montreal</td>\n",
       "      <td>1976.0</td>\n",
       "      <td>Aquatics</td>\n",
       "      <td>Swimming</td>\n",
       "      <td>4x100m freestyle relay</td>\n",
       "      <td>BABASHOFF, Shirley Farber</td>\n",
       "      <td>Women</td>\n",
       "      <td>USA</td>\n",
       "      <td>United States</td>\n",
       "      <td>W</td>\n",
       "      <td>Gold</td>\n",
       "    </tr>\n",
       "    <tr>\n",
       "      <th>17</th>\n",
       "      <td>Montreal</td>\n",
       "      <td>1976.0</td>\n",
       "      <td>Aquatics</td>\n",
       "      <td>Swimming</td>\n",
       "      <td>4x100m medley relay</td>\n",
       "      <td>ANKE, Hannelore</td>\n",
       "      <td>Women</td>\n",
       "      <td>GDR</td>\n",
       "      <td>East Germany</td>\n",
       "      <td>W</td>\n",
       "      <td>Gold</td>\n",
       "    </tr>\n",
       "    <tr>\n",
       "      <th>19</th>\n",
       "      <td>Montreal</td>\n",
       "      <td>1976.0</td>\n",
       "      <td>Aquatics</td>\n",
       "      <td>Swimming</td>\n",
       "      <td>800m freestyle</td>\n",
       "      <td>THÜMER, Petra</td>\n",
       "      <td>Women</td>\n",
       "      <td>GDR</td>\n",
       "      <td>East Germany</td>\n",
       "      <td>W</td>\n",
       "      <td>Gold</td>\n",
       "    </tr>\n",
       "    <tr>\n",
       "      <th>...</th>\n",
       "      <td>...</td>\n",
       "      <td>...</td>\n",
       "      <td>...</td>\n",
       "      <td>...</td>\n",
       "      <td>...</td>\n",
       "      <td>...</td>\n",
       "      <td>...</td>\n",
       "      <td>...</td>\n",
       "      <td>...</td>\n",
       "      <td>...</td>\n",
       "      <td>...</td>\n",
       "    </tr>\n",
       "    <tr>\n",
       "      <th>15354</th>\n",
       "      <td>Beijing</td>\n",
       "      <td>2008.0</td>\n",
       "      <td>Weightlifting</td>\n",
       "      <td>Weightlifting</td>\n",
       "      <td>48kg</td>\n",
       "      <td>CHEN, Xiexia</td>\n",
       "      <td>Women</td>\n",
       "      <td>CHN</td>\n",
       "      <td>China</td>\n",
       "      <td>W</td>\n",
       "      <td>Gold</td>\n",
       "    </tr>\n",
       "    <tr>\n",
       "      <th>15384</th>\n",
       "      <td>Beijing</td>\n",
       "      <td>2008.0</td>\n",
       "      <td>Wrestling</td>\n",
       "      <td>Wrestling Free.</td>\n",
       "      <td>63 - 72kg</td>\n",
       "      <td>WANG, Jiao</td>\n",
       "      <td>Women</td>\n",
       "      <td>CHN</td>\n",
       "      <td>China</td>\n",
       "      <td>W</td>\n",
       "      <td>Gold</td>\n",
       "    </tr>\n",
       "    <tr>\n",
       "      <th>15386</th>\n",
       "      <td>Beijing</td>\n",
       "      <td>2008.0</td>\n",
       "      <td>Wrestling</td>\n",
       "      <td>Wrestling Free.</td>\n",
       "      <td>48 - 55kg</td>\n",
       "      <td>YOSHIDA, Saori</td>\n",
       "      <td>Women</td>\n",
       "      <td>JPN</td>\n",
       "      <td>Japan</td>\n",
       "      <td>W</td>\n",
       "      <td>Gold</td>\n",
       "    </tr>\n",
       "    <tr>\n",
       "      <th>15387</th>\n",
       "      <td>Beijing</td>\n",
       "      <td>2008.0</td>\n",
       "      <td>Wrestling</td>\n",
       "      <td>Wrestling Free.</td>\n",
       "      <td>- 48kg</td>\n",
       "      <td>HUYNH, Carol</td>\n",
       "      <td>Women</td>\n",
       "      <td>CAN</td>\n",
       "      <td>Canada</td>\n",
       "      <td>W</td>\n",
       "      <td>Gold</td>\n",
       "    </tr>\n",
       "    <tr>\n",
       "      <th>15394</th>\n",
       "      <td>Beijing</td>\n",
       "      <td>2008.0</td>\n",
       "      <td>Wrestling</td>\n",
       "      <td>Wrestling Free.</td>\n",
       "      <td>55 - 63kg</td>\n",
       "      <td>ICHO, Kaori</td>\n",
       "      <td>Women</td>\n",
       "      <td>JPN</td>\n",
       "      <td>Japan</td>\n",
       "      <td>W</td>\n",
       "      <td>Gold</td>\n",
       "    </tr>\n",
       "  </tbody>\n",
       "</table>\n",
       "<p>1962 rows × 11 columns</p>\n",
       "</div>"
      ],
      "text/plain": [
       "           City    Year          Sport       Discipline  \\\n",
       "6      Montreal  1976.0       Aquatics           Diving   \n",
       "11     Montreal  1976.0       Aquatics           Diving   \n",
       "12     Montreal  1976.0       Aquatics         Swimming   \n",
       "17     Montreal  1976.0       Aquatics         Swimming   \n",
       "19     Montreal  1976.0       Aquatics         Swimming   \n",
       "...         ...     ...            ...              ...   \n",
       "15354   Beijing  2008.0  Weightlifting    Weightlifting   \n",
       "15384   Beijing  2008.0      Wrestling  Wrestling Free.   \n",
       "15386   Beijing  2008.0      Wrestling  Wrestling Free.   \n",
       "15387   Beijing  2008.0      Wrestling  Wrestling Free.   \n",
       "15394   Beijing  2008.0      Wrestling  Wrestling Free.   \n",
       "\n",
       "                        Event                    Athlete Gender Country_Code  \\\n",
       "6                10m platform     VAYTSEKHOVSKAYA, Elena  Women          URS   \n",
       "11             3m springboard     CHANDLER, Jennifer Kay  Women          USA   \n",
       "12     4x100m freestyle relay  BABASHOFF, Shirley Farber  Women          USA   \n",
       "17        4x100m medley relay            ANKE, Hannelore  Women          GDR   \n",
       "19             800m freestyle              THÜMER, Petra  Women          GDR   \n",
       "...                       ...                        ...    ...          ...   \n",
       "15354                    48kg               CHEN, Xiexia  Women          CHN   \n",
       "15384               63 - 72kg                 WANG, Jiao  Women          CHN   \n",
       "15386               48 - 55kg             YOSHIDA, Saori  Women          JPN   \n",
       "15387                  - 48kg               HUYNH, Carol  Women          CAN   \n",
       "15394               55 - 63kg                ICHO, Kaori  Women          JPN   \n",
       "\n",
       "             Country Event_gender Medal  \n",
       "6       Soviet Union            W  Gold  \n",
       "11     United States            W  Gold  \n",
       "12     United States            W  Gold  \n",
       "17      East Germany            W  Gold  \n",
       "19      East Germany            W  Gold  \n",
       "...              ...          ...   ...  \n",
       "15354          China            W  Gold  \n",
       "15384          China            W  Gold  \n",
       "15386          Japan            W  Gold  \n",
       "15387         Canada            W  Gold  \n",
       "15394          Japan            W  Gold  \n",
       "\n",
       "[1962 rows x 11 columns]"
      ]
     },
     "execution_count": 74,
     "metadata": {},
     "output_type": "execute_result"
    }
   ],
   "source": [
    "oo[(oo.Medal =='Gold') & (oo.Gender == 'Women')] # This returns only cells women who have won a gold medal"
   ]
  },
  {
   "cell_type": "markdown",
   "metadata": {},
   "source": [
    "# String Handling "
   ]
  },
  {
   "cell_type": "markdown",
   "metadata": {},
   "source": [
    "Available to every Series using the str attribute. By using Seris.str - access values of seris as strings and apply several methods to it.  E.g., Series.str.contains(), Series.str.startswith(), Seris.str.isnumeric(), and so on.."
   ]
  },
  {
   "cell_type": "markdown",
   "metadata": {},
   "source": [
    "# Simple Exercise "
   ]
  },
  {
   "cell_type": "markdown",
   "metadata": {},
   "source": [
    "1. IN which events did Jesse Owens win a medal?\n",
    "2. Which country hs won the most men's gold medals in Swimming over the years ? Sort the results in alphabetical order by the players name.\n",
    "3. Which three countries have won the most medals in recent year (1976 to prsent)\n",
    "4. Display the male gold medal winners for 100m track over the years \n"
   ]
  },
  {
   "cell_type": "markdown",
   "metadata": {},
   "source": [
    "# Basic Ploting "
   ]
  },
  {
   "cell_type": "markdown",
   "metadata": {},
   "source": [
    "Matplotlib has helps us to make plots in pandas \n",
    "Taking first steps of importing the library and the magic command in python as earlier seen in the previous session\n",
    "\n",
    "E.G., import matplotlib.pyplot as plt\n",
    "\n",
    "     %matplotlib inline \n"
   ]
  },
  {
   "cell_type": "code",
   "execution_count": 75,
   "metadata": {},
   "outputs": [],
   "source": [
    "import matplotlib.pyplot as plt # We use the pyplot module of the library basically to do simple x & y axis charts \n",
    "%matplotlib inline \n",
    "\n",
    "# There are basically five plots available using pyplot method such as: \n",
    "# plot(kind='line'), plot(kind='bar'), plot(kind='pie'), plot(kind ='barh')"
   ]
  },
  {
   "cell_type": "markdown",
   "metadata": {},
   "source": [
    "# Example : What were the different sports in the first olympics? Plot them using different graphs"
   ]
  },
  {
   "cell_type": "code",
   "execution_count": 78,
   "metadata": {},
   "outputs": [
    {
     "data": {
      "text/html": [
       "<div>\n",
       "<style scoped>\n",
       "    .dataframe tbody tr th:only-of-type {\n",
       "        vertical-align: middle;\n",
       "    }\n",
       "\n",
       "    .dataframe tbody tr th {\n",
       "        vertical-align: top;\n",
       "    }\n",
       "\n",
       "    .dataframe thead th {\n",
       "        text-align: right;\n",
       "    }\n",
       "</style>\n",
       "<table border=\"1\" class=\"dataframe\">\n",
       "  <thead>\n",
       "    <tr style=\"text-align: right;\">\n",
       "      <th></th>\n",
       "      <th>City</th>\n",
       "      <th>Year</th>\n",
       "      <th>Sport</th>\n",
       "      <th>Discipline</th>\n",
       "      <th>Event</th>\n",
       "      <th>Athlete</th>\n",
       "      <th>Gender</th>\n",
       "      <th>Country_Code</th>\n",
       "      <th>Country</th>\n",
       "      <th>Event_gender</th>\n",
       "      <th>Medal</th>\n",
       "    </tr>\n",
       "  </thead>\n",
       "  <tbody>\n",
       "    <tr>\n",
       "      <th>0</th>\n",
       "      <td>Montreal</td>\n",
       "      <td>1976.0</td>\n",
       "      <td>Aquatics</td>\n",
       "      <td>Diving</td>\n",
       "      <td>3m springboard</td>\n",
       "      <td>KÖHLER, Christa</td>\n",
       "      <td>Women</td>\n",
       "      <td>GDR</td>\n",
       "      <td>East Germany</td>\n",
       "      <td>W</td>\n",
       "      <td>Silver</td>\n",
       "    </tr>\n",
       "    <tr>\n",
       "      <th>1</th>\n",
       "      <td>Montreal</td>\n",
       "      <td>1976.0</td>\n",
       "      <td>Aquatics</td>\n",
       "      <td>Diving</td>\n",
       "      <td>3m springboard</td>\n",
       "      <td>KOSENKOV, Aleksandr</td>\n",
       "      <td>Men</td>\n",
       "      <td>URS</td>\n",
       "      <td>Soviet Union</td>\n",
       "      <td>M</td>\n",
       "      <td>Bronze</td>\n",
       "    </tr>\n",
       "    <tr>\n",
       "      <th>2</th>\n",
       "      <td>Montreal</td>\n",
       "      <td>1976.0</td>\n",
       "      <td>Aquatics</td>\n",
       "      <td>Diving</td>\n",
       "      <td>3m springboard</td>\n",
       "      <td>BOGGS, Philip George</td>\n",
       "      <td>Men</td>\n",
       "      <td>USA</td>\n",
       "      <td>United States</td>\n",
       "      <td>M</td>\n",
       "      <td>Gold</td>\n",
       "    </tr>\n",
       "    <tr>\n",
       "      <th>3</th>\n",
       "      <td>Montreal</td>\n",
       "      <td>1976.0</td>\n",
       "      <td>Aquatics</td>\n",
       "      <td>Diving</td>\n",
       "      <td>3m springboard</td>\n",
       "      <td>CAGNOTTO, Giorgio Franco</td>\n",
       "      <td>Men</td>\n",
       "      <td>ITA</td>\n",
       "      <td>Italy</td>\n",
       "      <td>M</td>\n",
       "      <td>Silver</td>\n",
       "    </tr>\n",
       "    <tr>\n",
       "      <th>4</th>\n",
       "      <td>Montreal</td>\n",
       "      <td>1976.0</td>\n",
       "      <td>Aquatics</td>\n",
       "      <td>Diving</td>\n",
       "      <td>10m platform</td>\n",
       "      <td>WILSON, Deborah Keplar</td>\n",
       "      <td>Women</td>\n",
       "      <td>USA</td>\n",
       "      <td>United States</td>\n",
       "      <td>W</td>\n",
       "      <td>Bronze</td>\n",
       "    </tr>\n",
       "  </tbody>\n",
       "</table>\n",
       "</div>"
      ],
      "text/plain": [
       "       City    Year     Sport Discipline           Event  \\\n",
       "0  Montreal  1976.0  Aquatics     Diving  3m springboard   \n",
       "1  Montreal  1976.0  Aquatics     Diving  3m springboard   \n",
       "2  Montreal  1976.0  Aquatics     Diving  3m springboard   \n",
       "3  Montreal  1976.0  Aquatics     Diving  3m springboard   \n",
       "4  Montreal  1976.0  Aquatics     Diving    10m platform   \n",
       "\n",
       "                    Athlete Gender Country_Code        Country Event_gender  \\\n",
       "0           KÖHLER, Christa  Women          GDR   East Germany            W   \n",
       "1       KOSENKOV, Aleksandr    Men          URS   Soviet Union            M   \n",
       "2      BOGGS, Philip George    Men          USA  United States            M   \n",
       "3  CAGNOTTO, Giorgio Franco    Men          ITA          Italy            M   \n",
       "4    WILSON, Deborah Keplar  Women          USA  United States            W   \n",
       "\n",
       "    Medal  \n",
       "0  Silver  \n",
       "1  Bronze  \n",
       "2    Gold  \n",
       "3  Silver  \n",
       "4  Bronze  "
      ]
     },
     "execution_count": 78,
     "metadata": {},
     "output_type": "execute_result"
    }
   ],
   "source": [
    "fo = oo[oo.Year == 1976] # fo is the DataFrame that stores the First Olympics in 1976 in this case\n",
    "fo.head() # here we are calling it now!"
   ]
  },
  {
   "cell_type": "markdown",
   "metadata": {},
   "source": [
    "# Line Plot "
   ]
  },
  {
   "cell_type": "code",
   "execution_count": 80,
   "metadata": {},
   "outputs": [
    {
     "data": {
      "image/png": "[encoded data removed]",
      "text/plain": [
       "<Figure size 432x288 with 1 Axes>"
      ]
     },
     "metadata": {
      "needs_background": "light"
     },
     "output_type": "display_data"
    }
   ],
   "source": [
    "fo.Sport.value_counts().plot(); # This returns the default line , however, we can iterate around different charts and graphs as shown next below "
   ]
  },
  {
   "cell_type": "code",
   "execution_count": 83,
   "metadata": {},
   "outputs": [
    {
     "data": {
      "image/png": "[encoded data removed]",
      "text/plain": [
       "<Figure size 432x288 with 1 Axes>"
      ]
     },
     "metadata": {
      "needs_background": "light"
     },
     "output_type": "display_data"
    }
   ],
   "source": [
    "fo.Sport.value_counts().plot(kind='bar'); # This returns the bar chart "
   ]
  },
  {
   "cell_type": "code",
   "execution_count": 84,
   "metadata": {},
   "outputs": [
    {
     "data": {
      "image/png": "[encoded data removed]",
      "text/plain": [
       "<Figure size 432x288 with 1 Axes>"
      ]
     },
     "metadata": {
      "needs_background": "light"
     },
     "output_type": "display_data"
    }
   ],
   "source": [
    "fo.Sport.value_counts().plot(kind='barh'); # This returns the horizontal bar chart "
   ]
  },
  {
   "cell_type": "code",
   "execution_count": 85,
   "metadata": {},
   "outputs": [
    {
     "data": {
      "image/png": "[encoded data removed]",
      "text/plain": [
       "<Figure size 432x288 with 1 Axes>"
      ]
     },
     "metadata": {},
     "output_type": "display_data"
    }
   ],
   "source": [
    "fo.Sport.value_counts().plot(kind='pie'); # This returns a pie chart or prorportion of each on whole "
   ]
  },
  {
   "cell_type": "markdown",
   "metadata": {},
   "source": [
    "# plot Colors . "
   ]
  },
  {
   "cell_type": "markdown",
   "metadata": {},
   "source": [
    "There are a variety of colors available in matplot . These can be viewed on matplot website"
   ]
  },
  {
   "cell_type": "code",
   "execution_count": 86,
   "metadata": {},
   "outputs": [
    {
     "data": {
      "image/png": "[encoded data removed]",
      "text/plain": [
       "<Figure size 432x288 with 1 Axes>"
      ]
     },
     "metadata": {
      "needs_background": "light"
     },
     "output_type": "display_data"
    }
   ],
   "source": [
    "fo.Sport.value_counts().plot(kind='bar', color = 'maroon'); # Adjusts the color to maroon"
   ]
  },
  {
   "cell_type": "markdown",
   "metadata": {},
   "source": [
    "# Figure Size "
   ]
  },
  {
   "cell_type": "markdown",
   "metadata": {},
   "source": [
    "This is a turple thart helps us to specify the size and dimension of a figure drawn"
   ]
  },
  {
   "cell_type": "code",
   "execution_count": 90,
   "metadata": {},
   "outputs": [
    {
     "data": {
      "image/png": "[encoded data removed]",
      "text/plain": [
       "<Figure size 576x144 with 1 Axes>"
      ]
     },
     "metadata": {
      "needs_background": "light"
     },
     "output_type": "display_data"
    }
   ],
   "source": [
    "fo.Sport.value_counts().plot(figsize=(8,2));"
   ]
  },
  {
   "cell_type": "markdown",
   "metadata": {},
   "source": [
    "# Color Maps "
   ]
  },
  {
   "cell_type": "markdown",
   "metadata": {},
   "source": [
    "Colormaps are represneted also in matplotlib. There are three types of color maps in matplot : These are : Sequential, Diverging, and Qualitative. The Sequential can be used to represent Qualitative data or order levels, Diverging diverts around middle value . Qualitative used when data has no ordering. "
   ]
  },
  {
   "cell_type": "code",
   "execution_count": 92,
   "metadata": {},
   "outputs": [
    {
     "ename": "ValueError",
     "evalue": "'pastel1' is not a valid value for name; supported values are 'Accent', 'Accent_r', 'Blues', 'Blues_r', 'BrBG', 'BrBG_r', 'BuGn', 'BuGn_r', 'BuPu', 'BuPu_r', 'CMRmap', 'CMRmap_r', 'Dark2', 'Dark2_r', 'GnBu', 'GnBu_r', 'Greens', 'Greens_r', 'Greys', 'Greys_r', 'OrRd', 'OrRd_r', 'Oranges', 'Oranges_r', 'PRGn', 'PRGn_r', 'Paired', 'Paired_r', 'Pastel1', 'Pastel1_r', 'Pastel2', 'Pastel2_r', 'PiYG', 'PiYG_r', 'PuBu', 'PuBuGn', 'PuBuGn_r', 'PuBu_r', 'PuOr', 'PuOr_r', 'PuRd', 'PuRd_r', 'Purples', 'Purples_r', 'RdBu', 'RdBu_r', 'RdGy', 'RdGy_r', 'RdPu', 'RdPu_r', 'RdYlBu', 'RdYlBu_r', 'RdYlGn', 'RdYlGn_r', 'Reds', 'Reds_r', 'Set1', 'Set1_r', 'Set2', 'Set2_r', 'Set3', 'Set3_r', 'Spectral', 'Spectral_r', 'Wistia', 'Wistia_r', 'YlGn', 'YlGnBu', 'YlGnBu_r', 'YlGn_r', 'YlOrBr', 'YlOrBr_r', 'YlOrRd', 'YlOrRd_r', 'afmhot', 'afmhot_r', 'autumn', 'autumn_r', 'binary', 'binary_r', 'bone', 'bone_r', 'brg', 'brg_r', 'bwr', 'bwr_r', 'cividis', 'cividis_r', 'cool', 'cool_r', 'coolwarm', 'coolwarm_r', 'copper', 'copper_r', 'cubehelix', 'cubehelix_r', 'flag', 'flag_r', 'gist_earth', 'gist_earth_r', 'gist_gray', 'gist_gray_r', 'gist_heat', 'gist_heat_r', 'gist_ncar', 'gist_ncar_r', 'gist_rainbow', 'gist_rainbow_r', 'gist_stern', 'gist_stern_r', 'gist_yarg', 'gist_yarg_r', 'gnuplot', 'gnuplot2', 'gnuplot2_r', 'gnuplot_r', 'gray', 'gray_r', 'hot', 'hot_r', 'hsv', 'hsv_r', 'inferno', 'inferno_r', 'jet', 'jet_r', 'magma', 'magma_r', 'nipy_spectral', 'nipy_spectral_r', 'ocean', 'ocean_r', 'pink', 'pink_r', 'plasma', 'plasma_r', 'prism', 'prism_r', 'rainbow', 'rainbow_r', 'seismic', 'seismic_r', 'spring', 'spring_r', 'summer', 'summer_r', 'tab10', 'tab10_r', 'tab20', 'tab20_r', 'tab20b', 'tab20b_r', 'tab20c', 'tab20c_r', 'terrain', 'terrain_r', 'turbo', 'turbo_r', 'twilight', 'twilight_r', 'twilight_shifted', 'twilight_shifted_r', 'viridis', 'viridis_r', 'winter', 'winter_r'",
     "output_type": "error",
     "traceback": [
      "\u001b[1;31m---------------------------------------------------------------------------\u001b[0m",
      "\u001b[1;31mValueError\u001b[0m                                Traceback (most recent call last)",
      "\u001b[1;32m<ipython-input-92-ca576156f8a4>\u001b[0m in \u001b[0;36m<module>\u001b[1;34m\u001b[0m\n\u001b[1;32m----> 1\u001b[1;33m \u001b[0mfo\u001b[0m\u001b[1;33m.\u001b[0m\u001b[0mSport\u001b[0m\u001b[1;33m.\u001b[0m\u001b[0mvalue_counts\u001b[0m\u001b[1;33m(\u001b[0m\u001b[1;33m)\u001b[0m\u001b[1;33m.\u001b[0m\u001b[0mplot\u001b[0m\u001b[1;33m(\u001b[0m\u001b[0mkind\u001b[0m\u001b[1;33m=\u001b[0m\u001b[1;34m'pie'\u001b[0m\u001b[1;33m,\u001b[0m \u001b[0mcolormap\u001b[0m\u001b[1;33m=\u001b[0m\u001b[1;34m'pastel1'\u001b[0m\u001b[1;33m)\u001b[0m\u001b[1;33m;\u001b[0m\u001b[1;33m\u001b[0m\u001b[1;33m\u001b[0m\u001b[0m\n\u001b[0m",
      "\u001b[1;32m~\\anaconda3\\lib\\site-packages\\pandas\\plotting\\_core.py\u001b[0m in \u001b[0;36m__call__\u001b[1;34m(self, *args, **kwargs)\u001b[0m\n\u001b[0;32m    947\u001b[0m                     \u001b[0mdata\u001b[0m\u001b[1;33m.\u001b[0m\u001b[0mcolumns\u001b[0m \u001b[1;33m=\u001b[0m \u001b[0mlabel_name\u001b[0m\u001b[1;33m\u001b[0m\u001b[1;33m\u001b[0m\u001b[0m\n\u001b[0;32m    948\u001b[0m \u001b[1;33m\u001b[0m\u001b[0m\n\u001b[1;32m--> 949\u001b[1;33m         \u001b[1;32mreturn\u001b[0m \u001b[0mplot_backend\u001b[0m\u001b[1;33m.\u001b[0m\u001b[0mplot\u001b[0m\u001b[1;33m(\u001b[0m\u001b[0mdata\u001b[0m\u001b[1;33m,\u001b[0m \u001b[0mkind\u001b[0m\u001b[1;33m=\u001b[0m\u001b[0mkind\u001b[0m\u001b[1;33m,\u001b[0m \u001b[1;33m**\u001b[0m\u001b[0mkwargs\u001b[0m\u001b[1;33m)\u001b[0m\u001b[1;33m\u001b[0m\u001b[1;33m\u001b[0m\u001b[0m\n\u001b[0m\u001b[0;32m    950\u001b[0m \u001b[1;33m\u001b[0m\u001b[0m\n\u001b[0;32m    951\u001b[0m     \u001b[0m__call__\u001b[0m\u001b[1;33m.\u001b[0m\u001b[0m__doc__\u001b[0m \u001b[1;33m=\u001b[0m \u001b[0m__doc__\u001b[0m\u001b[1;33m\u001b[0m\u001b[1;33m\u001b[0m\u001b[0m\n",
      "\u001b[1;32m~\\anaconda3\\lib\\site-packages\\pandas\\plotting\\_matplotlib\\__init__.py\u001b[0m in \u001b[0;36mplot\u001b[1;34m(data, kind, **kwargs)\u001b[0m\n\u001b[0;32m     59\u001b[0m             \u001b[0mkwargs\u001b[0m\u001b[1;33m[\u001b[0m\u001b[1;34m\"ax\"\u001b[0m\u001b[1;33m]\u001b[0m \u001b[1;33m=\u001b[0m \u001b[0mgetattr\u001b[0m\u001b[1;33m(\u001b[0m\u001b[0max\u001b[0m\u001b[1;33m,\u001b[0m \u001b[1;34m\"left_ax\"\u001b[0m\u001b[1;33m,\u001b[0m \u001b[0max\u001b[0m\u001b[1;33m)\u001b[0m\u001b[1;33m\u001b[0m\u001b[1;33m\u001b[0m\u001b[0m\n\u001b[0;32m     60\u001b[0m     \u001b[0mplot_obj\u001b[0m \u001b[1;33m=\u001b[0m \u001b[0mPLOT_CLASSES\u001b[0m\u001b[1;33m[\u001b[0m\u001b[0mkind\u001b[0m\u001b[1;33m]\u001b[0m\u001b[1;33m(\u001b[0m\u001b[0mdata\u001b[0m\u001b[1;33m,\u001b[0m \u001b[1;33m**\u001b[0m\u001b[0mkwargs\u001b[0m\u001b[1;33m)\u001b[0m\u001b[1;33m\u001b[0m\u001b[1;33m\u001b[0m\u001b[0m\n\u001b[1;32m---> 61\u001b[1;33m     \u001b[0mplot_obj\u001b[0m\u001b[1;33m.\u001b[0m\u001b[0mgenerate\u001b[0m\u001b[1;33m(\u001b[0m\u001b[1;33m)\u001b[0m\u001b[1;33m\u001b[0m\u001b[1;33m\u001b[0m\u001b[0m\n\u001b[0m\u001b[0;32m     62\u001b[0m     \u001b[0mplot_obj\u001b[0m\u001b[1;33m.\u001b[0m\u001b[0mdraw\u001b[0m\u001b[1;33m(\u001b[0m\u001b[1;33m)\u001b[0m\u001b[1;33m\u001b[0m\u001b[1;33m\u001b[0m\u001b[0m\n\u001b[0;32m     63\u001b[0m     \u001b[1;32mreturn\u001b[0m \u001b[0mplot_obj\u001b[0m\u001b[1;33m.\u001b[0m\u001b[0mresult\u001b[0m\u001b[1;33m\u001b[0m\u001b[1;33m\u001b[0m\u001b[0m\n",
      "\u001b[1;32m~\\anaconda3\\lib\\site-packages\\pandas\\plotting\\_matplotlib\\core.py\u001b[0m in \u001b[0;36mgenerate\u001b[1;34m(self)\u001b[0m\n\u001b[0;32m    269\u001b[0m         \u001b[0mself\u001b[0m\u001b[1;33m.\u001b[0m\u001b[0m_compute_plot_data\u001b[0m\u001b[1;33m(\u001b[0m\u001b[1;33m)\u001b[0m\u001b[1;33m\u001b[0m\u001b[1;33m\u001b[0m\u001b[0m\n\u001b[0;32m    270\u001b[0m         \u001b[0mself\u001b[0m\u001b[1;33m.\u001b[0m\u001b[0m_setup_subplots\u001b[0m\u001b[1;33m(\u001b[0m\u001b[1;33m)\u001b[0m\u001b[1;33m\u001b[0m\u001b[1;33m\u001b[0m\u001b[0m\n\u001b[1;32m--> 271\u001b[1;33m         \u001b[0mself\u001b[0m\u001b[1;33m.\u001b[0m\u001b[0m_make_plot\u001b[0m\u001b[1;33m(\u001b[0m\u001b[1;33m)\u001b[0m\u001b[1;33m\u001b[0m\u001b[1;33m\u001b[0m\u001b[0m\n\u001b[0m\u001b[0;32m    272\u001b[0m         \u001b[0mself\u001b[0m\u001b[1;33m.\u001b[0m\u001b[0m_add_table\u001b[0m\u001b[1;33m(\u001b[0m\u001b[1;33m)\u001b[0m\u001b[1;33m\u001b[0m\u001b[1;33m\u001b[0m\u001b[0m\n\u001b[0;32m    273\u001b[0m         \u001b[0mself\u001b[0m\u001b[1;33m.\u001b[0m\u001b[0m_make_legend\u001b[0m\u001b[1;33m(\u001b[0m\u001b[1;33m)\u001b[0m\u001b[1;33m\u001b[0m\u001b[1;33m\u001b[0m\u001b[0m\n",
      "\u001b[1;32m~\\anaconda3\\lib\\site-packages\\pandas\\plotting\\_matplotlib\\core.py\u001b[0m in \u001b[0;36m_make_plot\u001b[1;34m(self)\u001b[0m\n\u001b[0;32m   1519\u001b[0m \u001b[1;33m\u001b[0m\u001b[0m\n\u001b[0;32m   1520\u001b[0m     \u001b[1;32mdef\u001b[0m \u001b[0m_make_plot\u001b[0m\u001b[1;33m(\u001b[0m\u001b[0mself\u001b[0m\u001b[1;33m)\u001b[0m\u001b[1;33m:\u001b[0m\u001b[1;33m\u001b[0m\u001b[1;33m\u001b[0m\u001b[0m\n\u001b[1;32m-> 1521\u001b[1;33m         \u001b[0mcolors\u001b[0m \u001b[1;33m=\u001b[0m \u001b[0mself\u001b[0m\u001b[1;33m.\u001b[0m\u001b[0m_get_colors\u001b[0m\u001b[1;33m(\u001b[0m\u001b[0mnum_colors\u001b[0m\u001b[1;33m=\u001b[0m\u001b[0mlen\u001b[0m\u001b[1;33m(\u001b[0m\u001b[0mself\u001b[0m\u001b[1;33m.\u001b[0m\u001b[0mdata\u001b[0m\u001b[1;33m)\u001b[0m\u001b[1;33m,\u001b[0m \u001b[0mcolor_kwds\u001b[0m\u001b[1;33m=\u001b[0m\u001b[1;34m\"colors\"\u001b[0m\u001b[1;33m)\u001b[0m\u001b[1;33m\u001b[0m\u001b[1;33m\u001b[0m\u001b[0m\n\u001b[0m\u001b[0;32m   1522\u001b[0m         \u001b[0mself\u001b[0m\u001b[1;33m.\u001b[0m\u001b[0mkwds\u001b[0m\u001b[1;33m.\u001b[0m\u001b[0msetdefault\u001b[0m\u001b[1;33m(\u001b[0m\u001b[1;34m\"colors\"\u001b[0m\u001b[1;33m,\u001b[0m \u001b[0mcolors\u001b[0m\u001b[1;33m)\u001b[0m\u001b[1;33m\u001b[0m\u001b[1;33m\u001b[0m\u001b[0m\n\u001b[0;32m   1523\u001b[0m \u001b[1;33m\u001b[0m\u001b[0m\n",
      "\u001b[1;32m~\\anaconda3\\lib\\site-packages\\pandas\\plotting\\_matplotlib\\core.py\u001b[0m in \u001b[0;36m_get_colors\u001b[1;34m(self, num_colors, color_kwds)\u001b[0m\n\u001b[0;32m    753\u001b[0m             \u001b[0mnum_colors\u001b[0m \u001b[1;33m=\u001b[0m \u001b[0mself\u001b[0m\u001b[1;33m.\u001b[0m\u001b[0mnseries\u001b[0m\u001b[1;33m\u001b[0m\u001b[1;33m\u001b[0m\u001b[0m\n\u001b[0;32m    754\u001b[0m \u001b[1;33m\u001b[0m\u001b[0m\n\u001b[1;32m--> 755\u001b[1;33m         return _get_standard_colors(\n\u001b[0m\u001b[0;32m    756\u001b[0m             \u001b[0mnum_colors\u001b[0m\u001b[1;33m=\u001b[0m\u001b[0mnum_colors\u001b[0m\u001b[1;33m,\u001b[0m\u001b[1;33m\u001b[0m\u001b[1;33m\u001b[0m\u001b[0m\n\u001b[0;32m    757\u001b[0m             \u001b[0mcolormap\u001b[0m\u001b[1;33m=\u001b[0m\u001b[0mself\u001b[0m\u001b[1;33m.\u001b[0m\u001b[0mcolormap\u001b[0m\u001b[1;33m,\u001b[0m\u001b[1;33m\u001b[0m\u001b[1;33m\u001b[0m\u001b[0m\n",
      "\u001b[1;32m~\\anaconda3\\lib\\site-packages\\pandas\\plotting\\_matplotlib\\style.py\u001b[0m in \u001b[0;36m_get_standard_colors\u001b[1;34m(num_colors, colormap, color_type, color)\u001b[0m\n\u001b[0;32m     19\u001b[0m         \u001b[1;32mif\u001b[0m \u001b[0misinstance\u001b[0m\u001b[1;33m(\u001b[0m\u001b[0mcolormap\u001b[0m\u001b[1;33m,\u001b[0m \u001b[0mstr\u001b[0m\u001b[1;33m)\u001b[0m\u001b[1;33m:\u001b[0m\u001b[1;33m\u001b[0m\u001b[1;33m\u001b[0m\u001b[0m\n\u001b[0;32m     20\u001b[0m             \u001b[0mcmap\u001b[0m \u001b[1;33m=\u001b[0m \u001b[0mcolormap\u001b[0m\u001b[1;33m\u001b[0m\u001b[1;33m\u001b[0m\u001b[0m\n\u001b[1;32m---> 21\u001b[1;33m             \u001b[0mcolormap\u001b[0m \u001b[1;33m=\u001b[0m \u001b[0mcm\u001b[0m\u001b[1;33m.\u001b[0m\u001b[0mget_cmap\u001b[0m\u001b[1;33m(\u001b[0m\u001b[0mcolormap\u001b[0m\u001b[1;33m)\u001b[0m\u001b[1;33m\u001b[0m\u001b[1;33m\u001b[0m\u001b[0m\n\u001b[0m\u001b[0;32m     22\u001b[0m             \u001b[1;32mif\u001b[0m \u001b[0mcolormap\u001b[0m \u001b[1;32mis\u001b[0m \u001b[1;32mNone\u001b[0m\u001b[1;33m:\u001b[0m\u001b[1;33m\u001b[0m\u001b[1;33m\u001b[0m\u001b[0m\n\u001b[0;32m     23\u001b[0m                 \u001b[1;32mraise\u001b[0m \u001b[0mValueError\u001b[0m\u001b[1;33m(\u001b[0m\u001b[1;34mf\"Colormap {cmap} is not recognized\"\u001b[0m\u001b[1;33m)\u001b[0m\u001b[1;33m\u001b[0m\u001b[1;33m\u001b[0m\u001b[0m\n",
      "\u001b[1;32m~\\anaconda3\\lib\\site-packages\\matplotlib\\cm.py\u001b[0m in \u001b[0;36mget_cmap\u001b[1;34m(name, lut)\u001b[0m\n\u001b[0;32m    202\u001b[0m     \u001b[1;32mif\u001b[0m \u001b[0misinstance\u001b[0m\u001b[1;33m(\u001b[0m\u001b[0mname\u001b[0m\u001b[1;33m,\u001b[0m \u001b[0mcolors\u001b[0m\u001b[1;33m.\u001b[0m\u001b[0mColormap\u001b[0m\u001b[1;33m)\u001b[0m\u001b[1;33m:\u001b[0m\u001b[1;33m\u001b[0m\u001b[1;33m\u001b[0m\u001b[0m\n\u001b[0;32m    203\u001b[0m         \u001b[1;32mreturn\u001b[0m \u001b[0mname\u001b[0m\u001b[1;33m\u001b[0m\u001b[1;33m\u001b[0m\u001b[0m\n\u001b[1;32m--> 204\u001b[1;33m     \u001b[0mcbook\u001b[0m\u001b[1;33m.\u001b[0m\u001b[0m_check_in_list\u001b[0m\u001b[1;33m(\u001b[0m\u001b[0msorted\u001b[0m\u001b[1;33m(\u001b[0m\u001b[0m_cmap_registry\u001b[0m\u001b[1;33m)\u001b[0m\u001b[1;33m,\u001b[0m \u001b[0mname\u001b[0m\u001b[1;33m=\u001b[0m\u001b[0mname\u001b[0m\u001b[1;33m)\u001b[0m\u001b[1;33m\u001b[0m\u001b[1;33m\u001b[0m\u001b[0m\n\u001b[0m\u001b[0;32m    205\u001b[0m     \u001b[1;32mif\u001b[0m \u001b[0mlut\u001b[0m \u001b[1;32mis\u001b[0m \u001b[1;32mNone\u001b[0m\u001b[1;33m:\u001b[0m\u001b[1;33m\u001b[0m\u001b[1;33m\u001b[0m\u001b[0m\n\u001b[0;32m    206\u001b[0m         \u001b[1;32mreturn\u001b[0m \u001b[0m_cmap_registry\u001b[0m\u001b[1;33m[\u001b[0m\u001b[0mname\u001b[0m\u001b[1;33m]\u001b[0m\u001b[1;33m\u001b[0m\u001b[1;33m\u001b[0m\u001b[0m\n",
      "\u001b[1;32m~\\anaconda3\\lib\\site-packages\\matplotlib\\cbook\\__init__.py\u001b[0m in \u001b[0;36m_check_in_list\u001b[1;34m(_values, **kwargs)\u001b[0m\n\u001b[0;32m   2264\u001b[0m     \u001b[1;32mfor\u001b[0m \u001b[0mk\u001b[0m\u001b[1;33m,\u001b[0m \u001b[0mv\u001b[0m \u001b[1;32min\u001b[0m \u001b[0mkwargs\u001b[0m\u001b[1;33m.\u001b[0m\u001b[0mitems\u001b[0m\u001b[1;33m(\u001b[0m\u001b[1;33m)\u001b[0m\u001b[1;33m:\u001b[0m\u001b[1;33m\u001b[0m\u001b[1;33m\u001b[0m\u001b[0m\n\u001b[0;32m   2265\u001b[0m         \u001b[1;32mif\u001b[0m \u001b[0mv\u001b[0m \u001b[1;32mnot\u001b[0m \u001b[1;32min\u001b[0m \u001b[0mvalues\u001b[0m\u001b[1;33m:\u001b[0m\u001b[1;33m\u001b[0m\u001b[1;33m\u001b[0m\u001b[0m\n\u001b[1;32m-> 2266\u001b[1;33m             raise ValueError(\n\u001b[0m\u001b[0;32m   2267\u001b[0m                 \u001b[1;34m\"{!r} is not a valid value for {}; supported values are {}\"\u001b[0m\u001b[1;33m\u001b[0m\u001b[1;33m\u001b[0m\u001b[0m\n\u001b[0;32m   2268\u001b[0m                 .format(v, k, ', '.join(map(repr, values))))\n",
      "\u001b[1;31mValueError\u001b[0m: 'pastel1' is not a valid value for name; supported values are 'Accent', 'Accent_r', 'Blues', 'Blues_r', 'BrBG', 'BrBG_r', 'BuGn', 'BuGn_r', 'BuPu', 'BuPu_r', 'CMRmap', 'CMRmap_r', 'Dark2', 'Dark2_r', 'GnBu', 'GnBu_r', 'Greens', 'Greens_r', 'Greys', 'Greys_r', 'OrRd', 'OrRd_r', 'Oranges', 'Oranges_r', 'PRGn', 'PRGn_r', 'Paired', 'Paired_r', 'Pastel1', 'Pastel1_r', 'Pastel2', 'Pastel2_r', 'PiYG', 'PiYG_r', 'PuBu', 'PuBuGn', 'PuBuGn_r', 'PuBu_r', 'PuOr', 'PuOr_r', 'PuRd', 'PuRd_r', 'Purples', 'Purples_r', 'RdBu', 'RdBu_r', 'RdGy', 'RdGy_r', 'RdPu', 'RdPu_r', 'RdYlBu', 'RdYlBu_r', 'RdYlGn', 'RdYlGn_r', 'Reds', 'Reds_r', 'Set1', 'Set1_r', 'Set2', 'Set2_r', 'Set3', 'Set3_r', 'Spectral', 'Spectral_r', 'Wistia', 'Wistia_r', 'YlGn', 'YlGnBu', 'YlGnBu_r', 'YlGn_r', 'YlOrBr', 'YlOrBr_r', 'YlOrRd', 'YlOrRd_r', 'afmhot', 'afmhot_r', 'autumn', 'autumn_r', 'binary', 'binary_r', 'bone', 'bone_r', 'brg', 'brg_r', 'bwr', 'bwr_r', 'cividis', 'cividis_r', 'cool', 'cool_r', 'coolwarm', 'coolwarm_r', 'copper', 'copper_r', 'cubehelix', 'cubehelix_r', 'flag', 'flag_r', 'gist_earth', 'gist_earth_r', 'gist_gray', 'gist_gray_r', 'gist_heat', 'gist_heat_r', 'gist_ncar', 'gist_ncar_r', 'gist_rainbow', 'gist_rainbow_r', 'gist_stern', 'gist_stern_r', 'gist_yarg', 'gist_yarg_r', 'gnuplot', 'gnuplot2', 'gnuplot2_r', 'gnuplot_r', 'gray', 'gray_r', 'hot', 'hot_r', 'hsv', 'hsv_r', 'inferno', 'inferno_r', 'jet', 'jet_r', 'magma', 'magma_r', 'nipy_spectral', 'nipy_spectral_r', 'ocean', 'ocean_r', 'pink', 'pink_r', 'plasma', 'plasma_r', 'prism', 'prism_r', 'rainbow', 'rainbow_r', 'seismic', 'seismic_r', 'spring', 'spring_r', 'summer', 'summer_r', 'tab10', 'tab10_r', 'tab20', 'tab20_r', 'tab20b', 'tab20b_r', 'tab20c', 'tab20c_r', 'terrain', 'terrain_r', 'turbo', 'turbo_r', 'twilight', 'twilight_r', 'twilight_shifted', 'twilight_shifted_r', 'viridis', 'viridis_r', 'winter', 'winter_r'"
     ]
    },
    {
     "data": {
      "image/png": "[encoded data removed]",
      "text/plain": [
       "<Figure size 432x288 with 1 Axes>"
      ]
     },
     "metadata": {
      "needs_background": "light"
     },
     "output_type": "display_data"
    }
   ],
   "source": [
    "fo.Sport.value_counts().plot(kind='pie', colormap='pastel1'); # Coz pastel1 doesnto exist at "
   ]
  },
  {
   "cell_type": "markdown",
   "metadata": {},
   "source": [
    "# Seaborn Plots "
   ]
  },
  {
   "cell_type": "markdown",
   "metadata": {},
   "source": [
    "Seaborn is colorful and good ploting library used normally in most analysis. "
   ]
  },
  {
   "cell_type": "markdown",
   "metadata": {},
   "source": [
    "# Seaborn Basic Ploting "
   ]
  },
  {
   "cell_type": "markdown",
   "metadata": {},
   "source": [
    "This is a library based on matplotlib . Seaborn is a complement not a substitute to matplotlib lib. Check the website of seaborn to understand the options of charts. "
   ]
  },
  {
   "cell_type": "markdown",
   "metadata": {},
   "source": [
    "countplot(). In seaborn.countplot(x=None, y= None, hue=None, data=None, order=None, hue_order=None, orient=None, color=None, pallete=None...)\n",
    "data: the DataFrame or source data\n",
    "hue: categorical variables\n",
    "order: the sequence when using categorical levels\n",
    "pallete: colors to use for different levels of teh hue variable\n",
    "            "
   ]
  },
  {
   "cell_type": "markdown",
   "metadata": {},
   "source": [
    "# Seaborn Vs Matplotlib. Which one to use and When ?"
   ]
  },
  {
   "cell_type": "markdown",
   "metadata": {},
   "source": [
    "** Matplotlib \n",
    "\n",
    "Short scripts and working in conjuction with pyplot\n",
    "Simple plot types - line, bar, plot \n",
    "\n",
    "** Seaborn \n",
    "\n",
    "If your looking to do statistical or data science data or categorical data a\\or more beautiful and advanced plot, then seaborn comes handy"
   ]
  },
  {
   "cell_type": "code",
   "execution_count": 94,
   "metadata": {},
   "outputs": [],
   "source": [
    "import seaborn as sns"
   ]
  },
  {
   "cell_type": "markdown",
   "metadata": {},
   "source": [
    "# Example : How Many medals have been won by men and women in the datset in the history of the olympics. How many gold, silver, bronze medals were won by each gender?"
   ]
  },
  {
   "cell_type": "code",
   "execution_count": 98,
   "metadata": {},
   "outputs": [
    {
     "data": {
      "image/png": "[encoded data removed]",
      "text/plain": [
       "<Figure size 432x288 with 1 Axes>"
      ]
     },
     "metadata": {
      "needs_background": "light"
     },
     "output_type": "display_data"
    }
   ],
   "source": [
    "sns.countplot(x='Medal', data=oo, hue='Gender');"
   ]
  },
  {
   "cell_type": "markdown",
   "metadata": {},
   "source": [
    "# Simple Exercise"
   ]
  },
  {
   "cell_type": "markdown",
   "metadata": {},
   "source": [
    "1. Plot the number of medals achived by the chineses team (Men and Women) in Beijing 2008 using matplotlib and seaborn \n",
    "2. How can you use colormaps to give the data more meaning?\n",
    "3. plot the number of gold, silver and bronze medals for each gender\n",
    "4. How can you give the data more meaning? Is there anything else you can change to make it more intuitive?"
   ]
  },
  {
   "cell_type": "markdown",
   "metadata": {},
   "source": [
    "# Indexing in pandas "
   ]
  },
  {
   "cell_type": "markdown",
   "metadata": {},
   "source": [
    "An Index in Pandas is an immutable array\n",
    "\n",
    "Indexing allows us to access a row and column using a label in pandas. And this is what makes pandas interesting as comapred to other environments or libraries"
   ]
  },
  {
   "cell_type": "code",
   "execution_count": 99,
   "metadata": {},
   "outputs": [
    {
     "data": {
      "text/plain": [
       "pandas.core.indexes.range.RangeIndex"
      ]
     },
     "execution_count": 99,
     "metadata": {},
     "output_type": "execute_result"
    }
   ],
   "source": [
    "type(oo.index) # We should be able to see taht an index has it own type and its called ??????"
   ]
  },
  {
   "cell_type": "code",
   "execution_count": 100,
   "metadata": {},
   "outputs": [
    {
     "data": {
      "text/plain": [
       "100"
      ]
     },
     "execution_count": 100,
     "metadata": {},
     "output_type": "execute_result"
    }
   ],
   "source": [
    "oo.index[100]"
   ]
  },
  {
   "cell_type": "code",
   "execution_count": 101,
   "metadata": {},
   "outputs": [
    {
     "ename": "TypeError",
     "evalue": "Index does not support mutable operations",
     "output_type": "error",
     "traceback": [
      "\u001b[1;31m---------------------------------------------------------------------------\u001b[0m",
      "\u001b[1;31mTypeError\u001b[0m                                 Traceback (most recent call last)",
      "\u001b[1;32m<ipython-input-101-208e002ccef5>\u001b[0m in \u001b[0;36m<module>\u001b[1;34m\u001b[0m\n\u001b[1;32m----> 1\u001b[1;33m \u001b[0moo\u001b[0m\u001b[1;33m.\u001b[0m\u001b[0mindex\u001b[0m\u001b[1;33m[\u001b[0m\u001b[1;36m100\u001b[0m\u001b[1;33m]\u001b[0m \u001b[1;33m=\u001b[0m \u001b[1;36m5\u001b[0m\u001b[1;33m\u001b[0m\u001b[1;33m\u001b[0m\u001b[0m\n\u001b[0m",
      "\u001b[1;32m~\\anaconda3\\lib\\site-packages\\pandas\\core\\indexes\\base.py\u001b[0m in \u001b[0;36m__setitem__\u001b[1;34m(self, key, value)\u001b[0m\n\u001b[0;32m   4079\u001b[0m \u001b[1;33m\u001b[0m\u001b[0m\n\u001b[0;32m   4080\u001b[0m     \u001b[1;32mdef\u001b[0m \u001b[0m__setitem__\u001b[0m\u001b[1;33m(\u001b[0m\u001b[0mself\u001b[0m\u001b[1;33m,\u001b[0m \u001b[0mkey\u001b[0m\u001b[1;33m,\u001b[0m \u001b[0mvalue\u001b[0m\u001b[1;33m)\u001b[0m\u001b[1;33m:\u001b[0m\u001b[1;33m\u001b[0m\u001b[1;33m\u001b[0m\u001b[0m\n\u001b[1;32m-> 4081\u001b[1;33m         \u001b[1;32mraise\u001b[0m \u001b[0mTypeError\u001b[0m\u001b[1;33m(\u001b[0m\u001b[1;34m\"Index does not support mutable operations\"\u001b[0m\u001b[1;33m)\u001b[0m\u001b[1;33m\u001b[0m\u001b[1;33m\u001b[0m\u001b[0m\n\u001b[0m\u001b[0;32m   4082\u001b[0m \u001b[1;33m\u001b[0m\u001b[0m\n\u001b[0;32m   4083\u001b[0m     \u001b[1;32mdef\u001b[0m \u001b[0m__getitem__\u001b[0m\u001b[1;33m(\u001b[0m\u001b[0mself\u001b[0m\u001b[1;33m,\u001b[0m \u001b[0mkey\u001b[0m\u001b[1;33m)\u001b[0m\u001b[1;33m:\u001b[0m\u001b[1;33m\u001b[0m\u001b[1;33m\u001b[0m\u001b[0m\n",
      "\u001b[1;31mTypeError\u001b[0m: Index does not support mutable operations"
     ]
    }
   ],
   "source": [
    "oo.index[100] = 5 # Coz indices are unmutable"
   ]
  },
  {
   "cell_type": "markdown",
   "metadata": {},
   "source": [
    "# Set Index"
   ]
  },
  {
   "cell_type": "markdown",
   "metadata": {},
   "source": [
    "DataFrame.set_index(keys, drop=True, append=False, inplace =False, verify_integrity=False)\n",
    "\n",
    "set the DataFrame using one or more columns \n",
    "\n",
    "se_index(keys, inplace=True)"
   ]
  },
  {
   "cell_type": "markdown",
   "metadata": {},
   "source": [
    "# Seting an index"
   ]
  },
  {
   "cell_type": "code",
   "execution_count": 105,
   "metadata": {},
   "outputs": [],
   "source": [
    "oo.set_index('Athlete', inplace=True) # The athletes Names are now highlighted and bold and the first column is teh index"
   ]
  },
  {
   "cell_type": "code",
   "execution_count": 106,
   "metadata": {},
   "outputs": [
    {
     "data": {
      "text/html": [
       "<div>\n",
       "<style scoped>\n",
       "    .dataframe tbody tr th:only-of-type {\n",
       "        vertical-align: middle;\n",
       "    }\n",
       "\n",
       "    .dataframe tbody tr th {\n",
       "        vertical-align: top;\n",
       "    }\n",
       "\n",
       "    .dataframe thead th {\n",
       "        text-align: right;\n",
       "    }\n",
       "</style>\n",
       "<table border=\"1\" class=\"dataframe\">\n",
       "  <thead>\n",
       "    <tr style=\"text-align: right;\">\n",
       "      <th></th>\n",
       "      <th>City</th>\n",
       "      <th>Year</th>\n",
       "      <th>Sport</th>\n",
       "      <th>Discipline</th>\n",
       "      <th>Event</th>\n",
       "      <th>Gender</th>\n",
       "      <th>Country_Code</th>\n",
       "      <th>Country</th>\n",
       "      <th>Event_gender</th>\n",
       "      <th>Medal</th>\n",
       "    </tr>\n",
       "    <tr>\n",
       "      <th>Athlete</th>\n",
       "      <th></th>\n",
       "      <th></th>\n",
       "      <th></th>\n",
       "      <th></th>\n",
       "      <th></th>\n",
       "      <th></th>\n",
       "      <th></th>\n",
       "      <th></th>\n",
       "      <th></th>\n",
       "      <th></th>\n",
       "    </tr>\n",
       "  </thead>\n",
       "  <tbody>\n",
       "    <tr>\n",
       "      <th>KÖHLER, Christa</th>\n",
       "      <td>Montreal</td>\n",
       "      <td>1976.0</td>\n",
       "      <td>Aquatics</td>\n",
       "      <td>Diving</td>\n",
       "      <td>3m springboard</td>\n",
       "      <td>Women</td>\n",
       "      <td>GDR</td>\n",
       "      <td>East Germany</td>\n",
       "      <td>W</td>\n",
       "      <td>Silver</td>\n",
       "    </tr>\n",
       "    <tr>\n",
       "      <th>KOSENKOV, Aleksandr</th>\n",
       "      <td>Montreal</td>\n",
       "      <td>1976.0</td>\n",
       "      <td>Aquatics</td>\n",
       "      <td>Diving</td>\n",
       "      <td>3m springboard</td>\n",
       "      <td>Men</td>\n",
       "      <td>URS</td>\n",
       "      <td>Soviet Union</td>\n",
       "      <td>M</td>\n",
       "      <td>Bronze</td>\n",
       "    </tr>\n",
       "    <tr>\n",
       "      <th>BOGGS, Philip George</th>\n",
       "      <td>Montreal</td>\n",
       "      <td>1976.0</td>\n",
       "      <td>Aquatics</td>\n",
       "      <td>Diving</td>\n",
       "      <td>3m springboard</td>\n",
       "      <td>Men</td>\n",
       "      <td>USA</td>\n",
       "      <td>United States</td>\n",
       "      <td>M</td>\n",
       "      <td>Gold</td>\n",
       "    </tr>\n",
       "    <tr>\n",
       "      <th>CAGNOTTO, Giorgio Franco</th>\n",
       "      <td>Montreal</td>\n",
       "      <td>1976.0</td>\n",
       "      <td>Aquatics</td>\n",
       "      <td>Diving</td>\n",
       "      <td>3m springboard</td>\n",
       "      <td>Men</td>\n",
       "      <td>ITA</td>\n",
       "      <td>Italy</td>\n",
       "      <td>M</td>\n",
       "      <td>Silver</td>\n",
       "    </tr>\n",
       "    <tr>\n",
       "      <th>WILSON, Deborah Keplar</th>\n",
       "      <td>Montreal</td>\n",
       "      <td>1976.0</td>\n",
       "      <td>Aquatics</td>\n",
       "      <td>Diving</td>\n",
       "      <td>10m platform</td>\n",
       "      <td>Women</td>\n",
       "      <td>USA</td>\n",
       "      <td>United States</td>\n",
       "      <td>W</td>\n",
       "      <td>Bronze</td>\n",
       "    </tr>\n",
       "  </tbody>\n",
       "</table>\n",
       "</div>"
      ],
      "text/plain": [
       "                              City    Year     Sport Discipline  \\\n",
       "Athlete                                                           \n",
       "KÖHLER, Christa           Montreal  1976.0  Aquatics     Diving   \n",
       "KOSENKOV, Aleksandr       Montreal  1976.0  Aquatics     Diving   \n",
       "BOGGS, Philip George      Montreal  1976.0  Aquatics     Diving   \n",
       "CAGNOTTO, Giorgio Franco  Montreal  1976.0  Aquatics     Diving   \n",
       "WILSON, Deborah Keplar    Montreal  1976.0  Aquatics     Diving   \n",
       "\n",
       "                                   Event Gender Country_Code        Country  \\\n",
       "Athlete                                                                       \n",
       "KÖHLER, Christa           3m springboard  Women          GDR   East Germany   \n",
       "KOSENKOV, Aleksandr       3m springboard    Men          URS   Soviet Union   \n",
       "BOGGS, Philip George      3m springboard    Men          USA  United States   \n",
       "CAGNOTTO, Giorgio Franco  3m springboard    Men          ITA          Italy   \n",
       "WILSON, Deborah Keplar      10m platform  Women          USA  United States   \n",
       "\n",
       "                         Event_gender   Medal  \n",
       "Athlete                                        \n",
       "KÖHLER, Christa                     W  Silver  \n",
       "KOSENKOV, Aleksandr                 M  Bronze  \n",
       "BOGGS, Philip George                M    Gold  \n",
       "CAGNOTTO, Giorgio Franco            M  Silver  \n",
       "WILSON, Deborah Keplar              W  Bronze  "
      ]
     },
     "execution_count": 106,
     "metadata": {},
     "output_type": "execute_result"
    }
   ],
   "source": [
    "oo.head()"
   ]
  },
  {
   "cell_type": "markdown",
   "metadata": {},
   "source": [
    "# Reseting index"
   ]
  },
  {
   "cell_type": "code",
   "execution_count": 107,
   "metadata": {},
   "outputs": [],
   "source": [
    "oo.reset_index(inplace=True)"
   ]
  },
  {
   "cell_type": "code",
   "execution_count": 108,
   "metadata": {},
   "outputs": [
    {
     "data": {
      "text/html": [
       "<div>\n",
       "<style scoped>\n",
       "    .dataframe tbody tr th:only-of-type {\n",
       "        vertical-align: middle;\n",
       "    }\n",
       "\n",
       "    .dataframe tbody tr th {\n",
       "        vertical-align: top;\n",
       "    }\n",
       "\n",
       "    .dataframe thead th {\n",
       "        text-align: right;\n",
       "    }\n",
       "</style>\n",
       "<table border=\"1\" class=\"dataframe\">\n",
       "  <thead>\n",
       "    <tr style=\"text-align: right;\">\n",
       "      <th></th>\n",
       "      <th>Athlete</th>\n",
       "      <th>City</th>\n",
       "      <th>Year</th>\n",
       "      <th>Sport</th>\n",
       "      <th>Discipline</th>\n",
       "      <th>Event</th>\n",
       "      <th>Gender</th>\n",
       "      <th>Country_Code</th>\n",
       "      <th>Country</th>\n",
       "      <th>Event_gender</th>\n",
       "      <th>Medal</th>\n",
       "    </tr>\n",
       "  </thead>\n",
       "  <tbody>\n",
       "    <tr>\n",
       "      <th>0</th>\n",
       "      <td>KÖHLER, Christa</td>\n",
       "      <td>Montreal</td>\n",
       "      <td>1976.0</td>\n",
       "      <td>Aquatics</td>\n",
       "      <td>Diving</td>\n",
       "      <td>3m springboard</td>\n",
       "      <td>Women</td>\n",
       "      <td>GDR</td>\n",
       "      <td>East Germany</td>\n",
       "      <td>W</td>\n",
       "      <td>Silver</td>\n",
       "    </tr>\n",
       "    <tr>\n",
       "      <th>1</th>\n",
       "      <td>KOSENKOV, Aleksandr</td>\n",
       "      <td>Montreal</td>\n",
       "      <td>1976.0</td>\n",
       "      <td>Aquatics</td>\n",
       "      <td>Diving</td>\n",
       "      <td>3m springboard</td>\n",
       "      <td>Men</td>\n",
       "      <td>URS</td>\n",
       "      <td>Soviet Union</td>\n",
       "      <td>M</td>\n",
       "      <td>Bronze</td>\n",
       "    </tr>\n",
       "    <tr>\n",
       "      <th>2</th>\n",
       "      <td>BOGGS, Philip George</td>\n",
       "      <td>Montreal</td>\n",
       "      <td>1976.0</td>\n",
       "      <td>Aquatics</td>\n",
       "      <td>Diving</td>\n",
       "      <td>3m springboard</td>\n",
       "      <td>Men</td>\n",
       "      <td>USA</td>\n",
       "      <td>United States</td>\n",
       "      <td>M</td>\n",
       "      <td>Gold</td>\n",
       "    </tr>\n",
       "    <tr>\n",
       "      <th>3</th>\n",
       "      <td>CAGNOTTO, Giorgio Franco</td>\n",
       "      <td>Montreal</td>\n",
       "      <td>1976.0</td>\n",
       "      <td>Aquatics</td>\n",
       "      <td>Diving</td>\n",
       "      <td>3m springboard</td>\n",
       "      <td>Men</td>\n",
       "      <td>ITA</td>\n",
       "      <td>Italy</td>\n",
       "      <td>M</td>\n",
       "      <td>Silver</td>\n",
       "    </tr>\n",
       "    <tr>\n",
       "      <th>4</th>\n",
       "      <td>WILSON, Deborah Keplar</td>\n",
       "      <td>Montreal</td>\n",
       "      <td>1976.0</td>\n",
       "      <td>Aquatics</td>\n",
       "      <td>Diving</td>\n",
       "      <td>10m platform</td>\n",
       "      <td>Women</td>\n",
       "      <td>USA</td>\n",
       "      <td>United States</td>\n",
       "      <td>W</td>\n",
       "      <td>Bronze</td>\n",
       "    </tr>\n",
       "  </tbody>\n",
       "</table>\n",
       "</div>"
      ],
      "text/plain": [
       "                    Athlete      City    Year     Sport Discipline  \\\n",
       "0           KÖHLER, Christa  Montreal  1976.0  Aquatics     Diving   \n",
       "1       KOSENKOV, Aleksandr  Montreal  1976.0  Aquatics     Diving   \n",
       "2      BOGGS, Philip George  Montreal  1976.0  Aquatics     Diving   \n",
       "3  CAGNOTTO, Giorgio Franco  Montreal  1976.0  Aquatics     Diving   \n",
       "4    WILSON, Deborah Keplar  Montreal  1976.0  Aquatics     Diving   \n",
       "\n",
       "            Event Gender Country_Code        Country Event_gender   Medal  \n",
       "0  3m springboard  Women          GDR   East Germany            W  Silver  \n",
       "1  3m springboard    Men          URS   Soviet Union            M  Bronze  \n",
       "2  3m springboard    Men          USA  United States            M    Gold  \n",
       "3  3m springboard    Men          ITA          Italy            M  Silver  \n",
       "4    10m platform  Women          USA  United States            W  Bronze  "
      ]
     },
     "execution_count": 108,
     "metadata": {},
     "output_type": "execute_result"
    }
   ],
   "source": [
    "oo.head()"
   ]
  },
  {
   "cell_type": "markdown",
   "metadata": {},
   "source": [
    "# Sorting an Index"
   ]
  },
  {
   "cell_type": "markdown",
   "metadata": {},
   "source": [
    "DataFrame.sprt_index - is the methods, this especially becomes handy, when we have a very large datset and we want to know any subset of the datset"
   ]
  },
  {
   "cell_type": "code",
   "execution_count": 109,
   "metadata": {},
   "outputs": [],
   "source": [
    "oo.set_index('Athlete', inplace=True)"
   ]
  },
  {
   "cell_type": "code",
   "execution_count": 110,
   "metadata": {},
   "outputs": [
    {
     "data": {
      "text/html": [
       "<div>\n",
       "<style scoped>\n",
       "    .dataframe tbody tr th:only-of-type {\n",
       "        vertical-align: middle;\n",
       "    }\n",
       "\n",
       "    .dataframe tbody tr th {\n",
       "        vertical-align: top;\n",
       "    }\n",
       "\n",
       "    .dataframe thead th {\n",
       "        text-align: right;\n",
       "    }\n",
       "</style>\n",
       "<table border=\"1\" class=\"dataframe\">\n",
       "  <thead>\n",
       "    <tr style=\"text-align: right;\">\n",
       "      <th></th>\n",
       "      <th>City</th>\n",
       "      <th>Year</th>\n",
       "      <th>Sport</th>\n",
       "      <th>Discipline</th>\n",
       "      <th>Event</th>\n",
       "      <th>Gender</th>\n",
       "      <th>Country_Code</th>\n",
       "      <th>Country</th>\n",
       "      <th>Event_gender</th>\n",
       "      <th>Medal</th>\n",
       "    </tr>\n",
       "    <tr>\n",
       "      <th>Athlete</th>\n",
       "      <th></th>\n",
       "      <th></th>\n",
       "      <th></th>\n",
       "      <th></th>\n",
       "      <th></th>\n",
       "      <th></th>\n",
       "      <th></th>\n",
       "      <th></th>\n",
       "      <th></th>\n",
       "      <th></th>\n",
       "    </tr>\n",
       "  </thead>\n",
       "  <tbody>\n",
       "    <tr>\n",
       "      <th>KÖHLER, Christa</th>\n",
       "      <td>Montreal</td>\n",
       "      <td>1976.0</td>\n",
       "      <td>Aquatics</td>\n",
       "      <td>Diving</td>\n",
       "      <td>3m springboard</td>\n",
       "      <td>Women</td>\n",
       "      <td>GDR</td>\n",
       "      <td>East Germany</td>\n",
       "      <td>W</td>\n",
       "      <td>Silver</td>\n",
       "    </tr>\n",
       "    <tr>\n",
       "      <th>KOSENKOV, Aleksandr</th>\n",
       "      <td>Montreal</td>\n",
       "      <td>1976.0</td>\n",
       "      <td>Aquatics</td>\n",
       "      <td>Diving</td>\n",
       "      <td>3m springboard</td>\n",
       "      <td>Men</td>\n",
       "      <td>URS</td>\n",
       "      <td>Soviet Union</td>\n",
       "      <td>M</td>\n",
       "      <td>Bronze</td>\n",
       "    </tr>\n",
       "    <tr>\n",
       "      <th>BOGGS, Philip George</th>\n",
       "      <td>Montreal</td>\n",
       "      <td>1976.0</td>\n",
       "      <td>Aquatics</td>\n",
       "      <td>Diving</td>\n",
       "      <td>3m springboard</td>\n",
       "      <td>Men</td>\n",
       "      <td>USA</td>\n",
       "      <td>United States</td>\n",
       "      <td>M</td>\n",
       "      <td>Gold</td>\n",
       "    </tr>\n",
       "    <tr>\n",
       "      <th>CAGNOTTO, Giorgio Franco</th>\n",
       "      <td>Montreal</td>\n",
       "      <td>1976.0</td>\n",
       "      <td>Aquatics</td>\n",
       "      <td>Diving</td>\n",
       "      <td>3m springboard</td>\n",
       "      <td>Men</td>\n",
       "      <td>ITA</td>\n",
       "      <td>Italy</td>\n",
       "      <td>M</td>\n",
       "      <td>Silver</td>\n",
       "    </tr>\n",
       "    <tr>\n",
       "      <th>WILSON, Deborah Keplar</th>\n",
       "      <td>Montreal</td>\n",
       "      <td>1976.0</td>\n",
       "      <td>Aquatics</td>\n",
       "      <td>Diving</td>\n",
       "      <td>10m platform</td>\n",
       "      <td>Women</td>\n",
       "      <td>USA</td>\n",
       "      <td>United States</td>\n",
       "      <td>W</td>\n",
       "      <td>Bronze</td>\n",
       "    </tr>\n",
       "  </tbody>\n",
       "</table>\n",
       "</div>"
      ],
      "text/plain": [
       "                              City    Year     Sport Discipline  \\\n",
       "Athlete                                                           \n",
       "KÖHLER, Christa           Montreal  1976.0  Aquatics     Diving   \n",
       "KOSENKOV, Aleksandr       Montreal  1976.0  Aquatics     Diving   \n",
       "BOGGS, Philip George      Montreal  1976.0  Aquatics     Diving   \n",
       "CAGNOTTO, Giorgio Franco  Montreal  1976.0  Aquatics     Diving   \n",
       "WILSON, Deborah Keplar    Montreal  1976.0  Aquatics     Diving   \n",
       "\n",
       "                                   Event Gender Country_Code        Country  \\\n",
       "Athlete                                                                       \n",
       "KÖHLER, Christa           3m springboard  Women          GDR   East Germany   \n",
       "KOSENKOV, Aleksandr       3m springboard    Men          URS   Soviet Union   \n",
       "BOGGS, Philip George      3m springboard    Men          USA  United States   \n",
       "CAGNOTTO, Giorgio Franco  3m springboard    Men          ITA          Italy   \n",
       "WILSON, Deborah Keplar      10m platform  Women          USA  United States   \n",
       "\n",
       "                         Event_gender   Medal  \n",
       "Athlete                                        \n",
       "KÖHLER, Christa                     W  Silver  \n",
       "KOSENKOV, Aleksandr                 M  Bronze  \n",
       "BOGGS, Philip George                M    Gold  \n",
       "CAGNOTTO, Giorgio Franco            M  Silver  \n",
       "WILSON, Deborah Keplar              W  Bronze  "
      ]
     },
     "execution_count": 110,
     "metadata": {},
     "output_type": "execute_result"
    }
   ],
   "source": [
    "oo.head()"
   ]
  },
  {
   "cell_type": "code",
   "execution_count": 111,
   "metadata": {},
   "outputs": [],
   "source": [
    "oo.sort_index(inplace=True)\n",
    "oo.head()"
   ]
  },
  {
   "cell_type": "code",
   "execution_count": null,
   "metadata": {},
   "outputs": [],
   "source": []
  },
  {
   "cell_type": "code",
   "execution_count": 117,
   "metadata": {},
   "outputs": [
    {
     "data": {
      "text/html": [
       "<div>\n",
       "<style scoped>\n",
       "    .dataframe tbody tr th:only-of-type {\n",
       "        vertical-align: middle;\n",
       "    }\n",
       "\n",
       "    .dataframe tbody tr th {\n",
       "        vertical-align: top;\n",
       "    }\n",
       "\n",
       "    .dataframe thead th {\n",
       "        text-align: right;\n",
       "    }\n",
       "</style>\n",
       "<table border=\"1\" class=\"dataframe\">\n",
       "  <thead>\n",
       "    <tr style=\"text-align: right;\">\n",
       "      <th></th>\n",
       "      <th>City</th>\n",
       "      <th>Year</th>\n",
       "      <th>Sport</th>\n",
       "      <th>Discipline</th>\n",
       "      <th>Event</th>\n",
       "      <th>Gender</th>\n",
       "      <th>Country_Code</th>\n",
       "      <th>Country</th>\n",
       "      <th>Event_gender</th>\n",
       "      <th>Medal</th>\n",
       "    </tr>\n",
       "    <tr>\n",
       "      <th>Athlete</th>\n",
       "      <th></th>\n",
       "      <th></th>\n",
       "      <th></th>\n",
       "      <th></th>\n",
       "      <th></th>\n",
       "      <th></th>\n",
       "      <th></th>\n",
       "      <th></th>\n",
       "      <th></th>\n",
       "      <th></th>\n",
       "    </tr>\n",
       "  </thead>\n",
       "  <tbody>\n",
       "    <tr>\n",
       "      <th>ÖRSTED, Hans-Henrik</th>\n",
       "      <td>Moscow</td>\n",
       "      <td>1980.0</td>\n",
       "      <td>Cycling</td>\n",
       "      <td>Cycling Track</td>\n",
       "      <td>Individual Pursuit</td>\n",
       "      <td>Men</td>\n",
       "      <td>DEN</td>\n",
       "      <td>Denmark</td>\n",
       "      <td>M</td>\n",
       "      <td>Bronze</td>\n",
       "    </tr>\n",
       "    <tr>\n",
       "      <th>ZÜLOW, Andreas</th>\n",
       "      <td>Seoul</td>\n",
       "      <td>1988.0</td>\n",
       "      <td>Boxing</td>\n",
       "      <td>Boxing</td>\n",
       "      <td>57 - 60kg (lightweight)</td>\n",
       "      <td>Men</td>\n",
       "      <td>GDR</td>\n",
       "      <td>East Germany</td>\n",
       "      <td>M</td>\n",
       "      <td>Gold</td>\n",
       "    </tr>\n",
       "    <tr>\n",
       "      <th>ZÜHLKE, Steffen</th>\n",
       "      <td>Seoul</td>\n",
       "      <td>1988.0</td>\n",
       "      <td>Rowing</td>\n",
       "      <td>Rowing</td>\n",
       "      <td>quadruple sculls without coxswain (4x)</td>\n",
       "      <td>Men</td>\n",
       "      <td>GDR</td>\n",
       "      <td>East Germany</td>\n",
       "      <td>M</td>\n",
       "      <td>Bronze</td>\n",
       "    </tr>\n",
       "    <tr>\n",
       "      <th>ZYKINA, Olesya</th>\n",
       "      <td>Athens</td>\n",
       "      <td>2004.0</td>\n",
       "      <td>Athletics</td>\n",
       "      <td>Athletics</td>\n",
       "      <td>4x400m relay</td>\n",
       "      <td>Women</td>\n",
       "      <td>RUS</td>\n",
       "      <td>Russia</td>\n",
       "      <td>W</td>\n",
       "      <td>Silver</td>\n",
       "    </tr>\n",
       "    <tr>\n",
       "      <th>ZYKINA, Olesya</th>\n",
       "      <td>Sydney</td>\n",
       "      <td>2000.0</td>\n",
       "      <td>Athletics</td>\n",
       "      <td>Athletics</td>\n",
       "      <td>4x400m relay</td>\n",
       "      <td>Women</td>\n",
       "      <td>RUS</td>\n",
       "      <td>Russia</td>\n",
       "      <td>W</td>\n",
       "      <td>Bronze</td>\n",
       "    </tr>\n",
       "  </tbody>\n",
       "</table>\n",
       "</div>"
      ],
      "text/plain": [
       "                       City    Year      Sport     Discipline  \\\n",
       "Athlete                                                         \n",
       "ÖRSTED, Hans-Henrik  Moscow  1980.0    Cycling  Cycling Track   \n",
       "ZÜLOW, Andreas        Seoul  1988.0     Boxing         Boxing   \n",
       "ZÜHLKE, Steffen       Seoul  1988.0     Rowing         Rowing   \n",
       "ZYKINA, Olesya       Athens  2004.0  Athletics      Athletics   \n",
       "ZYKINA, Olesya       Sydney  2000.0  Athletics      Athletics   \n",
       "\n",
       "                                                      Event Gender  \\\n",
       "Athlete                                                              \n",
       "ÖRSTED, Hans-Henrik                      Individual Pursuit    Men   \n",
       "ZÜLOW, Andreas                      57 - 60kg (lightweight)    Men   \n",
       "ZÜHLKE, Steffen      quadruple sculls without coxswain (4x)    Men   \n",
       "ZYKINA, Olesya                                 4x400m relay  Women   \n",
       "ZYKINA, Olesya                                 4x400m relay  Women   \n",
       "\n",
       "                    Country_Code       Country Event_gender   Medal  \n",
       "Athlete                                                              \n",
       "ÖRSTED, Hans-Henrik          DEN       Denmark            M  Bronze  \n",
       "ZÜLOW, Andreas               GDR  East Germany            M    Gold  \n",
       "ZÜHLKE, Steffen              GDR  East Germany            M  Bronze  \n",
       "ZYKINA, Olesya               RUS        Russia            W  Silver  \n",
       "ZYKINA, Olesya               RUS        Russia            W  Bronze  "
      ]
     },
     "execution_count": 117,
     "metadata": {},
     "output_type": "execute_result"
    }
   ],
   "source": [
    "oo.sort_index(inplace=True, ascending=False)\n",
    "oo.head()"
   ]
  },
  {
   "cell_type": "markdown",
   "metadata": {},
   "source": [
    "# Loc[]"
   ]
  },
  {
   "cell_type": "markdown",
   "metadata": {},
   "source": [
    "Loc[] is a label based index for selection by label \n",
    "DataFrame.loc[]/DataFrame.Series.loc[]"
   ]
  },
  {
   "cell_type": "markdown",
   "metadata": {},
   "source": [
    "# Searching the Olympics by the athletes name"
   ]
  },
  {
   "cell_type": "markdown",
   "metadata": {},
   "source": [
    "# Loc[]"
   ]
  },
  {
   "cell_type": "code",
   "execution_count": 120,
   "metadata": {},
   "outputs": [
    {
     "data": {
      "text/html": [
       "<div>\n",
       "<style scoped>\n",
       "    .dataframe tbody tr th:only-of-type {\n",
       "        vertical-align: middle;\n",
       "    }\n",
       "\n",
       "    .dataframe tbody tr th {\n",
       "        vertical-align: top;\n",
       "    }\n",
       "\n",
       "    .dataframe thead th {\n",
       "        text-align: right;\n",
       "    }\n",
       "</style>\n",
       "<table border=\"1\" class=\"dataframe\">\n",
       "  <thead>\n",
       "    <tr style=\"text-align: right;\">\n",
       "      <th></th>\n",
       "      <th>City</th>\n",
       "      <th>Year</th>\n",
       "      <th>Sport</th>\n",
       "      <th>Discipline</th>\n",
       "      <th>Event</th>\n",
       "      <th>Gender</th>\n",
       "      <th>Country_Code</th>\n",
       "      <th>Country</th>\n",
       "      <th>Event_gender</th>\n",
       "      <th>Medal</th>\n",
       "    </tr>\n",
       "    <tr>\n",
       "      <th>Athlete</th>\n",
       "      <th></th>\n",
       "      <th></th>\n",
       "      <th></th>\n",
       "      <th></th>\n",
       "      <th></th>\n",
       "      <th></th>\n",
       "      <th></th>\n",
       "      <th></th>\n",
       "      <th></th>\n",
       "      <th></th>\n",
       "    </tr>\n",
       "  </thead>\n",
       "  <tbody>\n",
       "    <tr>\n",
       "      <th>BOLT, Usain</th>\n",
       "      <td>Beijing</td>\n",
       "      <td>2008.0</td>\n",
       "      <td>Athletics</td>\n",
       "      <td>Athletics</td>\n",
       "      <td>100m</td>\n",
       "      <td>Men</td>\n",
       "      <td>JAM</td>\n",
       "      <td>Jamaica</td>\n",
       "      <td>M</td>\n",
       "      <td>Gold</td>\n",
       "    </tr>\n",
       "    <tr>\n",
       "      <th>BOLT, Usain</th>\n",
       "      <td>Beijing</td>\n",
       "      <td>2008.0</td>\n",
       "      <td>Athletics</td>\n",
       "      <td>Athletics</td>\n",
       "      <td>4x100m relay</td>\n",
       "      <td>Men</td>\n",
       "      <td>JAM</td>\n",
       "      <td>Jamaica</td>\n",
       "      <td>M</td>\n",
       "      <td>Gold</td>\n",
       "    </tr>\n",
       "    <tr>\n",
       "      <th>BOLT, Usain</th>\n",
       "      <td>Beijing</td>\n",
       "      <td>2008.0</td>\n",
       "      <td>Athletics</td>\n",
       "      <td>Athletics</td>\n",
       "      <td>200m</td>\n",
       "      <td>Men</td>\n",
       "      <td>JAM</td>\n",
       "      <td>Jamaica</td>\n",
       "      <td>M</td>\n",
       "      <td>Gold</td>\n",
       "    </tr>\n",
       "  </tbody>\n",
       "</table>\n",
       "</div>"
      ],
      "text/plain": [
       "                City    Year      Sport Discipline         Event Gender  \\\n",
       "Athlete                                                                   \n",
       "BOLT, Usain  Beijing  2008.0  Athletics  Athletics          100m    Men   \n",
       "BOLT, Usain  Beijing  2008.0  Athletics  Athletics  4x100m relay    Men   \n",
       "BOLT, Usain  Beijing  2008.0  Athletics  Athletics          200m    Men   \n",
       "\n",
       "            Country_Code  Country Event_gender Medal  \n",
       "Athlete                                               \n",
       "BOLT, Usain          JAM  Jamaica            M  Gold  \n",
       "BOLT, Usain          JAM  Jamaica            M  Gold  \n",
       "BOLT, Usain          JAM  Jamaica            M  Gold  "
      ]
     },
     "execution_count": 120,
     "metadata": {},
     "output_type": "execute_result"
    }
   ],
   "source": [
    "oo.loc['BOLT, Usain'] # Using Loc[] "
   ]
  },
  {
   "cell_type": "markdown",
   "metadata": {},
   "source": [
    "# iloc[]"
   ]
  },
  {
   "cell_type": "markdown",
   "metadata": {},
   "source": [
    "iloc[] is called by DataFrame.iloc[]. The advantages is it allows the traditional pythonic slicing and basically integer based (from 0 to lenght -1 of the axis) "
   ]
  },
  {
   "cell_type": "code",
   "execution_count": 121,
   "metadata": {},
   "outputs": [
    {
     "data": {
      "text/plain": [
       "City                  Moscow\n",
       "Year                    1980\n",
       "Sport                Fencing\n",
       "Discipline           Fencing\n",
       "Event              foil team\n",
       "Gender                 Women\n",
       "Country_Code             URS\n",
       "Country         Soviet Union\n",
       "Event_gender               W\n",
       "Medal                 Silver\n",
       "Name: TSAGARAEVA, Larisa, dtype: object"
      ]
     },
     "execution_count": 121,
     "metadata": {},
     "output_type": "execute_result"
    }
   ],
   "source": [
    "oo.iloc[1700]"
   ]
  },
  {
   "cell_type": "code",
   "execution_count": 122,
   "metadata": {},
   "outputs": [
    {
     "data": {
      "text/html": [
       "<div>\n",
       "<style scoped>\n",
       "    .dataframe tbody tr th:only-of-type {\n",
       "        vertical-align: middle;\n",
       "    }\n",
       "\n",
       "    .dataframe tbody tr th {\n",
       "        vertical-align: top;\n",
       "    }\n",
       "\n",
       "    .dataframe thead th {\n",
       "        text-align: right;\n",
       "    }\n",
       "</style>\n",
       "<table border=\"1\" class=\"dataframe\">\n",
       "  <thead>\n",
       "    <tr style=\"text-align: right;\">\n",
       "      <th></th>\n",
       "      <th>City</th>\n",
       "      <th>Year</th>\n",
       "      <th>Sport</th>\n",
       "      <th>Discipline</th>\n",
       "      <th>Event</th>\n",
       "      <th>Gender</th>\n",
       "      <th>Country_Code</th>\n",
       "      <th>Country</th>\n",
       "      <th>Event_gender</th>\n",
       "      <th>Medal</th>\n",
       "    </tr>\n",
       "    <tr>\n",
       "      <th>Athlete</th>\n",
       "      <th></th>\n",
       "      <th></th>\n",
       "      <th></th>\n",
       "      <th></th>\n",
       "      <th></th>\n",
       "      <th></th>\n",
       "      <th></th>\n",
       "      <th></th>\n",
       "      <th></th>\n",
       "      <th></th>\n",
       "    </tr>\n",
       "  </thead>\n",
       "  <tbody>\n",
       "    <tr>\n",
       "      <th>VAZAGASHVILI, Giorgi</th>\n",
       "      <td>Sydney</td>\n",
       "      <td>2000.0</td>\n",
       "      <td>Judo</td>\n",
       "      <td>Judo</td>\n",
       "      <td>60 - 66kg (half-lightweight)</td>\n",
       "      <td>Men</td>\n",
       "      <td>GEO</td>\n",
       "      <td>Georgia</td>\n",
       "      <td>M</td>\n",
       "      <td>Bronze</td>\n",
       "    </tr>\n",
       "    <tr>\n",
       "      <th>SRECKI, Eric</th>\n",
       "      <td>Seoul</td>\n",
       "      <td>1988.0</td>\n",
       "      <td>Fencing</td>\n",
       "      <td>Fencing</td>\n",
       "      <td>épée team</td>\n",
       "      <td>Men</td>\n",
       "      <td>FRA</td>\n",
       "      <td>France</td>\n",
       "      <td>M</td>\n",
       "      <td>Gold</td>\n",
       "    </tr>\n",
       "    <tr>\n",
       "      <th>ANDREWS, Michelle</th>\n",
       "      <td>Atlanta</td>\n",
       "      <td>1996.0</td>\n",
       "      <td>Hockey</td>\n",
       "      <td>Hockey</td>\n",
       "      <td>hockey</td>\n",
       "      <td>Women</td>\n",
       "      <td>AUS</td>\n",
       "      <td>Australia</td>\n",
       "      <td>W</td>\n",
       "      <td>Gold</td>\n",
       "    </tr>\n",
       "  </tbody>\n",
       "</table>\n",
       "</div>"
      ],
      "text/plain": [
       "                         City    Year    Sport Discipline  \\\n",
       "Athlete                                                     \n",
       "VAZAGASHVILI, Giorgi   Sydney  2000.0     Judo       Judo   \n",
       "SRECKI, Eric            Seoul  1988.0  Fencing    Fencing   \n",
       "ANDREWS, Michelle     Atlanta  1996.0   Hockey     Hockey   \n",
       "\n",
       "                                             Event Gender Country_Code  \\\n",
       "Athlete                                                                  \n",
       "VAZAGASHVILI, Giorgi  60 - 66kg (half-lightweight)    Men          GEO   \n",
       "SRECKI, Eric                             épée team    Men          FRA   \n",
       "ANDREWS, Michelle                           hockey  Women          AUS   \n",
       "\n",
       "                        Country Event_gender   Medal  \n",
       "Athlete                                               \n",
       "VAZAGASHVILI, Giorgi    Georgia            M  Bronze  \n",
       "SRECKI, Eric             France            M    Gold  \n",
       "ANDREWS, Michelle     Australia            W    Gold  "
      ]
     },
     "execution_count": 122,
     "metadata": {},
     "output_type": "execute_result"
    }
   ],
   "source": [
    "oo.iloc[[1320, 2760, 15000]]"
   ]
  },
  {
   "cell_type": "code",
   "execution_count": 123,
   "metadata": {},
   "outputs": [
    {
     "data": {
      "text/html": [
       "<div>\n",
       "<style scoped>\n",
       "    .dataframe tbody tr th:only-of-type {\n",
       "        vertical-align: middle;\n",
       "    }\n",
       "\n",
       "    .dataframe tbody tr th {\n",
       "        vertical-align: top;\n",
       "    }\n",
       "\n",
       "    .dataframe thead th {\n",
       "        text-align: right;\n",
       "    }\n",
       "</style>\n",
       "<table border=\"1\" class=\"dataframe\">\n",
       "  <thead>\n",
       "    <tr style=\"text-align: right;\">\n",
       "      <th></th>\n",
       "      <th>City</th>\n",
       "      <th>Year</th>\n",
       "      <th>Sport</th>\n",
       "      <th>Discipline</th>\n",
       "      <th>Event</th>\n",
       "      <th>Gender</th>\n",
       "      <th>Country_Code</th>\n",
       "      <th>Country</th>\n",
       "      <th>Event_gender</th>\n",
       "      <th>Medal</th>\n",
       "    </tr>\n",
       "    <tr>\n",
       "      <th>Athlete</th>\n",
       "      <th></th>\n",
       "      <th></th>\n",
       "      <th></th>\n",
       "      <th></th>\n",
       "      <th></th>\n",
       "      <th></th>\n",
       "      <th></th>\n",
       "      <th></th>\n",
       "      <th></th>\n",
       "      <th></th>\n",
       "    </tr>\n",
       "  </thead>\n",
       "  <tbody>\n",
       "    <tr>\n",
       "      <th>ZÜLOW, Andreas</th>\n",
       "      <td>Seoul</td>\n",
       "      <td>1988.0</td>\n",
       "      <td>Boxing</td>\n",
       "      <td>Boxing</td>\n",
       "      <td>57 - 60kg (lightweight)</td>\n",
       "      <td>Men</td>\n",
       "      <td>GDR</td>\n",
       "      <td>East Germany</td>\n",
       "      <td>M</td>\n",
       "      <td>Gold</td>\n",
       "    </tr>\n",
       "    <tr>\n",
       "      <th>ZÜHLKE, Steffen</th>\n",
       "      <td>Seoul</td>\n",
       "      <td>1988.0</td>\n",
       "      <td>Rowing</td>\n",
       "      <td>Rowing</td>\n",
       "      <td>quadruple sculls without coxswain (4x)</td>\n",
       "      <td>Men</td>\n",
       "      <td>GDR</td>\n",
       "      <td>East Germany</td>\n",
       "      <td>M</td>\n",
       "      <td>Bronze</td>\n",
       "    </tr>\n",
       "    <tr>\n",
       "      <th>ZYKINA, Olesya</th>\n",
       "      <td>Athens</td>\n",
       "      <td>2004.0</td>\n",
       "      <td>Athletics</td>\n",
       "      <td>Athletics</td>\n",
       "      <td>4x400m relay</td>\n",
       "      <td>Women</td>\n",
       "      <td>RUS</td>\n",
       "      <td>Russia</td>\n",
       "      <td>W</td>\n",
       "      <td>Silver</td>\n",
       "    </tr>\n",
       "    <tr>\n",
       "      <th>ZYKINA, Olesya</th>\n",
       "      <td>Sydney</td>\n",
       "      <td>2000.0</td>\n",
       "      <td>Athletics</td>\n",
       "      <td>Athletics</td>\n",
       "      <td>4x400m relay</td>\n",
       "      <td>Women</td>\n",
       "      <td>RUS</td>\n",
       "      <td>Russia</td>\n",
       "      <td>W</td>\n",
       "      <td>Bronze</td>\n",
       "    </tr>\n",
       "    <tr>\n",
       "      <th>ZYCH, Boguslaw</th>\n",
       "      <td>Moscow</td>\n",
       "      <td>1980.0</td>\n",
       "      <td>Fencing</td>\n",
       "      <td>Fencing</td>\n",
       "      <td>foil team</td>\n",
       "      <td>Men</td>\n",
       "      <td>POL</td>\n",
       "      <td>Poland</td>\n",
       "      <td>M</td>\n",
       "      <td>Bronze</td>\n",
       "    </tr>\n",
       "    <tr>\n",
       "      <th>ZWOLLE, Hendrik Jan</th>\n",
       "      <td>Barcelona</td>\n",
       "      <td>1992.0</td>\n",
       "      <td>Rowing</td>\n",
       "      <td>Rowing</td>\n",
       "      <td>double sculls (2x)</td>\n",
       "      <td>Men</td>\n",
       "      <td>NED</td>\n",
       "      <td>Netherlands</td>\n",
       "      <td>M</td>\n",
       "      <td>Bronze</td>\n",
       "    </tr>\n",
       "    <tr>\n",
       "      <th>ZWOLLE, Hendrik Jan</th>\n",
       "      <td>Atlanta</td>\n",
       "      <td>1996.0</td>\n",
       "      <td>Rowing</td>\n",
       "      <td>Rowing</td>\n",
       "      <td>eight with coxswain (8+)</td>\n",
       "      <td>Men</td>\n",
       "      <td>NED</td>\n",
       "      <td>Netherlands</td>\n",
       "      <td>M</td>\n",
       "      <td>Gold</td>\n",
       "    </tr>\n",
       "    <tr>\n",
       "      <th>ZWOLINSKI, Krzysztof</th>\n",
       "      <td>Moscow</td>\n",
       "      <td>1980.0</td>\n",
       "      <td>Athletics</td>\n",
       "      <td>Athletics</td>\n",
       "      <td>4x100m relay</td>\n",
       "      <td>Men</td>\n",
       "      <td>POL</td>\n",
       "      <td>Poland</td>\n",
       "      <td>M</td>\n",
       "      <td>Silver</td>\n",
       "    </tr>\n",
       "    <tr>\n",
       "      <th>ZWIERS, Claudia</th>\n",
       "      <td>Atlanta</td>\n",
       "      <td>1996.0</td>\n",
       "      <td>Judo</td>\n",
       "      <td>Judo</td>\n",
       "      <td>61 - 66kg (middleweight)</td>\n",
       "      <td>Women</td>\n",
       "      <td>NED</td>\n",
       "      <td>Netherlands</td>\n",
       "      <td>W</td>\n",
       "      <td>Bronze</td>\n",
       "    </tr>\n",
       "  </tbody>\n",
       "</table>\n",
       "</div>"
      ],
      "text/plain": [
       "                           City    Year      Sport Discipline  \\\n",
       "Athlete                                                         \n",
       "ZÜLOW, Andreas            Seoul  1988.0     Boxing     Boxing   \n",
       "ZÜHLKE, Steffen           Seoul  1988.0     Rowing     Rowing   \n",
       "ZYKINA, Olesya           Athens  2004.0  Athletics  Athletics   \n",
       "ZYKINA, Olesya           Sydney  2000.0  Athletics  Athletics   \n",
       "ZYCH, Boguslaw           Moscow  1980.0    Fencing    Fencing   \n",
       "ZWOLLE, Hendrik Jan   Barcelona  1992.0     Rowing     Rowing   \n",
       "ZWOLLE, Hendrik Jan     Atlanta  1996.0     Rowing     Rowing   \n",
       "ZWOLINSKI, Krzysztof     Moscow  1980.0  Athletics  Athletics   \n",
       "ZWIERS, Claudia         Atlanta  1996.0       Judo       Judo   \n",
       "\n",
       "                                                       Event Gender  \\\n",
       "Athlete                                                               \n",
       "ZÜLOW, Andreas                       57 - 60kg (lightweight)    Men   \n",
       "ZÜHLKE, Steffen       quadruple sculls without coxswain (4x)    Men   \n",
       "ZYKINA, Olesya                                  4x400m relay  Women   \n",
       "ZYKINA, Olesya                                  4x400m relay  Women   \n",
       "ZYCH, Boguslaw                                     foil team    Men   \n",
       "ZWOLLE, Hendrik Jan                       double sculls (2x)    Men   \n",
       "ZWOLLE, Hendrik Jan                 eight with coxswain (8+)    Men   \n",
       "ZWOLINSKI, Krzysztof                            4x100m relay    Men   \n",
       "ZWIERS, Claudia                     61 - 66kg (middleweight)  Women   \n",
       "\n",
       "                     Country_Code       Country Event_gender   Medal  \n",
       "Athlete                                                               \n",
       "ZÜLOW, Andreas                GDR  East Germany            M    Gold  \n",
       "ZÜHLKE, Steffen               GDR  East Germany            M  Bronze  \n",
       "ZYKINA, Olesya                RUS        Russia            W  Silver  \n",
       "ZYKINA, Olesya                RUS        Russia            W  Bronze  \n",
       "ZYCH, Boguslaw                POL        Poland            M  Bronze  \n",
       "ZWOLLE, Hendrik Jan           NED   Netherlands            M  Bronze  \n",
       "ZWOLLE, Hendrik Jan           NED   Netherlands            M    Gold  \n",
       "ZWOLINSKI, Krzysztof          POL        Poland            M  Silver  \n",
       "ZWIERS, Claudia               NED   Netherlands            W  Bronze  "
      ]
     },
     "execution_count": 123,
     "metadata": {},
     "output_type": "execute_result"
    }
   ],
   "source": [
    "oo.iloc[1:10] # python slicing methods"
   ]
  },
  {
   "cell_type": "markdown",
   "metadata": {},
   "source": [
    "# Simple Exercise "
   ]
  },
  {
   "cell_type": "markdown",
   "metadata": {},
   "source": [
    "1. Plot the total number of medals awarded at each of teh olympic games throughtout history\n",
    "2. Which countries didnot win a medal in the last olympics in the dataset? How many countries were there?"
   ]
  },
  {
   "cell_type": "code",
   "execution_count": 125,
   "metadata": {},
   "outputs": [
    {
     "ename": "UnicodeDecodeError",
     "evalue": "'utf-8' codec can't decode byte 0xe9 in position 0: invalid continuation byte",
     "output_type": "error",
     "traceback": [
      "\u001b[1;31m---------------------------------------------------------------------------\u001b[0m",
      "\u001b[1;31mUnicodeDecodeError\u001b[0m                        Traceback (most recent call last)",
      "\u001b[1;32mpandas\\_libs\\parsers.pyx\u001b[0m in \u001b[0;36mpandas._libs.parsers.TextReader._convert_tokens\u001b[1;34m()\u001b[0m\n",
      "\u001b[1;32mpandas\\_libs\\parsers.pyx\u001b[0m in \u001b[0;36mpandas._libs.parsers.TextReader._convert_with_dtype\u001b[1;34m()\u001b[0m\n",
      "\u001b[1;32mpandas\\_libs\\parsers.pyx\u001b[0m in \u001b[0;36mpandas._libs.parsers.TextReader._string_convert\u001b[1;34m()\u001b[0m\n",
      "\u001b[1;32mpandas\\_libs\\parsers.pyx\u001b[0m in \u001b[0;36mpandas._libs.parsers._string_box_utf8\u001b[1;34m()\u001b[0m\n",
      "\u001b[1;31mUnicodeDecodeError\u001b[0m: 'utf-8' codec can't decode byte 0xe9 in position 0: invalid continuation byte",
      "\nDuring handling of the above exception, another exception occurred:\n",
      "\u001b[1;31mUnicodeDecodeError\u001b[0m                        Traceback (most recent call last)",
      "\u001b[1;32m<ipython-input-125-1b5b7471e1dd>\u001b[0m in \u001b[0;36m<module>\u001b[1;34m\u001b[0m\n\u001b[1;32m----> 1\u001b[1;33m \u001b[0moo2\u001b[0m \u001b[1;33m=\u001b[0m \u001b[0mpd\u001b[0m\u001b[1;33m.\u001b[0m\u001b[0mread_csv\u001b[0m\u001b[1;33m(\u001b[0m\u001b[1;34m'olympics.csv'\u001b[0m\u001b[1;33m)\u001b[0m\u001b[1;33m\u001b[0m\u001b[1;33m\u001b[0m\u001b[0m\n\u001b[0m",
      "\u001b[1;32m~\\anaconda3\\lib\\site-packages\\pandas\\io\\parsers.py\u001b[0m in \u001b[0;36mread_csv\u001b[1;34m(filepath_or_buffer, sep, delimiter, header, names, index_col, usecols, squeeze, prefix, mangle_dupe_cols, dtype, engine, converters, true_values, false_values, skipinitialspace, skiprows, skipfooter, nrows, na_values, keep_default_na, na_filter, verbose, skip_blank_lines, parse_dates, infer_datetime_format, keep_date_col, date_parser, dayfirst, cache_dates, iterator, chunksize, compression, thousands, decimal, lineterminator, quotechar, quoting, doublequote, escapechar, comment, encoding, dialect, error_bad_lines, warn_bad_lines, delim_whitespace, low_memory, memory_map, float_precision)\u001b[0m\n\u001b[0;32m    684\u001b[0m     )\n\u001b[0;32m    685\u001b[0m \u001b[1;33m\u001b[0m\u001b[0m\n\u001b[1;32m--> 686\u001b[1;33m     \u001b[1;32mreturn\u001b[0m \u001b[0m_read\u001b[0m\u001b[1;33m(\u001b[0m\u001b[0mfilepath_or_buffer\u001b[0m\u001b[1;33m,\u001b[0m \u001b[0mkwds\u001b[0m\u001b[1;33m)\u001b[0m\u001b[1;33m\u001b[0m\u001b[1;33m\u001b[0m\u001b[0m\n\u001b[0m\u001b[0;32m    687\u001b[0m \u001b[1;33m\u001b[0m\u001b[0m\n\u001b[0;32m    688\u001b[0m \u001b[1;33m\u001b[0m\u001b[0m\n",
      "\u001b[1;32m~\\anaconda3\\lib\\site-packages\\pandas\\io\\parsers.py\u001b[0m in \u001b[0;36m_read\u001b[1;34m(filepath_or_buffer, kwds)\u001b[0m\n\u001b[0;32m    456\u001b[0m \u001b[1;33m\u001b[0m\u001b[0m\n\u001b[0;32m    457\u001b[0m     \u001b[1;32mtry\u001b[0m\u001b[1;33m:\u001b[0m\u001b[1;33m\u001b[0m\u001b[1;33m\u001b[0m\u001b[0m\n\u001b[1;32m--> 458\u001b[1;33m         \u001b[0mdata\u001b[0m \u001b[1;33m=\u001b[0m \u001b[0mparser\u001b[0m\u001b[1;33m.\u001b[0m\u001b[0mread\u001b[0m\u001b[1;33m(\u001b[0m\u001b[0mnrows\u001b[0m\u001b[1;33m)\u001b[0m\u001b[1;33m\u001b[0m\u001b[1;33m\u001b[0m\u001b[0m\n\u001b[0m\u001b[0;32m    459\u001b[0m     \u001b[1;32mfinally\u001b[0m\u001b[1;33m:\u001b[0m\u001b[1;33m\u001b[0m\u001b[1;33m\u001b[0m\u001b[0m\n\u001b[0;32m    460\u001b[0m         \u001b[0mparser\u001b[0m\u001b[1;33m.\u001b[0m\u001b[0mclose\u001b[0m\u001b[1;33m(\u001b[0m\u001b[1;33m)\u001b[0m\u001b[1;33m\u001b[0m\u001b[1;33m\u001b[0m\u001b[0m\n",
      "\u001b[1;32m~\\anaconda3\\lib\\site-packages\\pandas\\io\\parsers.py\u001b[0m in \u001b[0;36mread\u001b[1;34m(self, nrows)\u001b[0m\n\u001b[0;32m   1194\u001b[0m     \u001b[1;32mdef\u001b[0m \u001b[0mread\u001b[0m\u001b[1;33m(\u001b[0m\u001b[0mself\u001b[0m\u001b[1;33m,\u001b[0m \u001b[0mnrows\u001b[0m\u001b[1;33m=\u001b[0m\u001b[1;32mNone\u001b[0m\u001b[1;33m)\u001b[0m\u001b[1;33m:\u001b[0m\u001b[1;33m\u001b[0m\u001b[1;33m\u001b[0m\u001b[0m\n\u001b[0;32m   1195\u001b[0m         \u001b[0mnrows\u001b[0m \u001b[1;33m=\u001b[0m \u001b[0m_validate_integer\u001b[0m\u001b[1;33m(\u001b[0m\u001b[1;34m\"nrows\"\u001b[0m\u001b[1;33m,\u001b[0m \u001b[0mnrows\u001b[0m\u001b[1;33m)\u001b[0m\u001b[1;33m\u001b[0m\u001b[1;33m\u001b[0m\u001b[0m\n\u001b[1;32m-> 1196\u001b[1;33m         \u001b[0mret\u001b[0m \u001b[1;33m=\u001b[0m \u001b[0mself\u001b[0m\u001b[1;33m.\u001b[0m\u001b[0m_engine\u001b[0m\u001b[1;33m.\u001b[0m\u001b[0mread\u001b[0m\u001b[1;33m(\u001b[0m\u001b[0mnrows\u001b[0m\u001b[1;33m)\u001b[0m\u001b[1;33m\u001b[0m\u001b[1;33m\u001b[0m\u001b[0m\n\u001b[0m\u001b[0;32m   1197\u001b[0m \u001b[1;33m\u001b[0m\u001b[0m\n\u001b[0;32m   1198\u001b[0m         \u001b[1;31m# May alter columns / col_dict\u001b[0m\u001b[1;33m\u001b[0m\u001b[1;33m\u001b[0m\u001b[1;33m\u001b[0m\u001b[0m\n",
      "\u001b[1;32m~\\anaconda3\\lib\\site-packages\\pandas\\io\\parsers.py\u001b[0m in \u001b[0;36mread\u001b[1;34m(self, nrows)\u001b[0m\n\u001b[0;32m   2153\u001b[0m     \u001b[1;32mdef\u001b[0m \u001b[0mread\u001b[0m\u001b[1;33m(\u001b[0m\u001b[0mself\u001b[0m\u001b[1;33m,\u001b[0m \u001b[0mnrows\u001b[0m\u001b[1;33m=\u001b[0m\u001b[1;32mNone\u001b[0m\u001b[1;33m)\u001b[0m\u001b[1;33m:\u001b[0m\u001b[1;33m\u001b[0m\u001b[1;33m\u001b[0m\u001b[0m\n\u001b[0;32m   2154\u001b[0m         \u001b[1;32mtry\u001b[0m\u001b[1;33m:\u001b[0m\u001b[1;33m\u001b[0m\u001b[1;33m\u001b[0m\u001b[0m\n\u001b[1;32m-> 2155\u001b[1;33m             \u001b[0mdata\u001b[0m \u001b[1;33m=\u001b[0m \u001b[0mself\u001b[0m\u001b[1;33m.\u001b[0m\u001b[0m_reader\u001b[0m\u001b[1;33m.\u001b[0m\u001b[0mread\u001b[0m\u001b[1;33m(\u001b[0m\u001b[0mnrows\u001b[0m\u001b[1;33m)\u001b[0m\u001b[1;33m\u001b[0m\u001b[1;33m\u001b[0m\u001b[0m\n\u001b[0m\u001b[0;32m   2156\u001b[0m         \u001b[1;32mexcept\u001b[0m \u001b[0mStopIteration\u001b[0m\u001b[1;33m:\u001b[0m\u001b[1;33m\u001b[0m\u001b[1;33m\u001b[0m\u001b[0m\n\u001b[0;32m   2157\u001b[0m             \u001b[1;32mif\u001b[0m \u001b[0mself\u001b[0m\u001b[1;33m.\u001b[0m\u001b[0m_first_chunk\u001b[0m\u001b[1;33m:\u001b[0m\u001b[1;33m\u001b[0m\u001b[1;33m\u001b[0m\u001b[0m\n",
      "\u001b[1;32mpandas\\_libs\\parsers.pyx\u001b[0m in \u001b[0;36mpandas._libs.parsers.TextReader.read\u001b[1;34m()\u001b[0m\n",
      "\u001b[1;32mpandas\\_libs\\parsers.pyx\u001b[0m in \u001b[0;36mpandas._libs.parsers.TextReader._read_low_memory\u001b[1;34m()\u001b[0m\n",
      "\u001b[1;32mpandas\\_libs\\parsers.pyx\u001b[0m in \u001b[0;36mpandas._libs.parsers.TextReader._read_rows\u001b[1;34m()\u001b[0m\n",
      "\u001b[1;32mpandas\\_libs\\parsers.pyx\u001b[0m in \u001b[0;36mpandas._libs.parsers.TextReader._convert_column_data\u001b[1;34m()\u001b[0m\n",
      "\u001b[1;32mpandas\\_libs\\parsers.pyx\u001b[0m in \u001b[0;36mpandas._libs.parsers.TextReader._convert_tokens\u001b[1;34m()\u001b[0m\n",
      "\u001b[1;32mpandas\\_libs\\parsers.pyx\u001b[0m in \u001b[0;36mpandas._libs.parsers.TextReader._convert_with_dtype\u001b[1;34m()\u001b[0m\n",
      "\u001b[1;32mpandas\\_libs\\parsers.pyx\u001b[0m in \u001b[0;36mpandas._libs.parsers.TextReader._string_convert\u001b[1;34m()\u001b[0m\n",
      "\u001b[1;32mpandas\\_libs\\parsers.pyx\u001b[0m in \u001b[0;36mpandas._libs.parsers._string_box_utf8\u001b[1;34m()\u001b[0m\n",
      "\u001b[1;31mUnicodeDecodeError\u001b[0m: 'utf-8' codec can't decode byte 0xe9 in position 0: invalid continuation byte"
     ]
    }
   ],
   "source": [
    "oo2 = pd.read_csv('olympics.csv')"
   ]
  },
  {
   "cell_type": "code",
   "execution_count": null,
   "metadata": {},
   "outputs": [],
   "source": []
  }
 ],
 "metadata": {
  "kernelspec": {
   "display_name": "Python 3",
   "language": "python",
   "name": "python3"
  },
  "language_info": {
   "codemirror_mode": {
    "name": "ipython",
    "version": 3
   },
   "file_extension": ".py",
   "mimetype": "text/x-python",
   "name": "python",
   "nbconvert_exporter": "python",
   "pygments_lexer": "ipython3",
   "version": "3.7.6"
  }
 },
 "nbformat": 4,
 "nbformat_minor": 4
}
