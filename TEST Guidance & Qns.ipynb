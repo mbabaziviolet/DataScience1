{
 "cells": [
  {
   "cell_type": "markdown",
   "metadata": {},
   "source": [
    "## TEST Guidance & Questions \n",
    "\n",
    "This self-grading notebook serves as a guidance for the TEST today. The questions and guidance attempts to cover all content, since the start of Introductory course.  If you have got a good idea of the contents of the course so far, you should be able to make a good attempt, all things held constant.\n",
    "\n",
    "It is essential that you answer each cell by assigning the solution to QUESTION_# where # is the question number.\n",
    "\n",
    "Each QUESTION_# will be preceeded by some key guidance and any libraries that may be required to complete and run the code successfully. \n",
    "\n",
    "KINDLY READ ALL THE QUESTIONS & GUIDANCE AS CAREFULLY AS YOU CAN TO GET AN UNDERSTANDING OF ALL REQUIREMENTS ON EACH QUESTION_#\n",
    "\n",
    "We will start with a warm-up question that is already answered.\n",
    "\n",
    "Question 0\n",
    "\n",
    "Create a 3-element 1-dimensional array containing the values [1,1,1]\n",
    "\n",
    "Note: This answer is not assessed."
   ]
  },
  {
   "cell_type": "markdown",
   "metadata": {},
   "source": [
    "## Importing Libraries, Up & Running !!"
   ]
  },
  {
   "cell_type": "markdown",
   "metadata": {},
   "source": [
    "# Import all libraries needed to complete the questions as need may arise!\n",
    "\n",
    "\n",
    "\n"
   ]
  },
  {
   "cell_type": "code",
   "execution_count": 2,
   "metadata": {},
   "outputs": [],
   "source": [
    "# Setup: The solution is used as a model\n",
    "import numpy as np\n",
    "\n",
    "QUESTION_0 = np.ones(3) "
   ]
  },
  {
   "cell_type": "markdown",
   "metadata": {},
   "source": [
    "## Question 1\n",
    "\n",
    "Construct a matrix below ; \n",
    "\n",
    "$$\\left[\\begin{array}{ccc} 1 & 0.2 & 0.5 \\\\ 0.2 & 1 & 0.8 \\\\ 0.5 & 0.8 & 1 \\end{array}\\right]$$\n",
    "\n",
    "as a NumPy array.\n",
    "\n",
    "\n",
    "(a). Compute an Inversion of the matrix (`Transpose`) \n",
    "\n",
    "(b). Computer the (`determinant`) of the matrix if possible "
   ]
  },
  {
   "cell_type": "code",
   "execution_count": null,
   "metadata": {},
   "outputs": [],
   "source": []
  },
  {
   "cell_type": "markdown",
   "metadata": {},
   "source": [
    "## Question 2\n",
    "\n",
    "Construct a DataFrame starting from the matrix below\n",
    "\n",
    "$$\\left[\\begin{array}{ccc} 1 & 0.2 & 0.5 \\\\ 0.2 & 1 & 0.8 \\\\ 0.5 & 0.8 & 1 \\end{array}\\right]$$\n",
    "\n",
    "as a DataFrame with columns and index both equal to `['A', 'B', 'C']`. "
   ]
  },
  {
   "cell_type": "code",
   "execution_count": null,
   "metadata": {},
   "outputs": [],
   "source": []
  },
  {
   "cell_type": "markdown",
   "metadata": {},
   "source": [
    "## Question 3\n",
    "\n",
    "What is the standard deviation of the data:\n",
    "\n",
    "$$ 1, 3, 1, 2,9, 4, 5, 6, 10, 4 $$\n",
    "\n",
    "**Note** Use 1 degree of freedom in the denominator."
   ]
  },
  {
   "cell_type": "code",
   "execution_count": null,
   "metadata": {},
   "outputs": [],
   "source": []
  },
  {
   "cell_type": "markdown",
   "metadata": {},
   "source": [
    "## Question 4\n",
    "\n",
    "Write a function that takes a single input 'x' and return the string\n",
    "\"The value of x is \" and the value of x. For example, if x is 3.14,\n",
    "then the returned value should be \"The value of x is 3.14\". The function name\n",
    "must be QUESTION_4."
   ]
  },
  {
   "cell_type": "code",
   "execution_count": null,
   "metadata": {},
   "outputs": [],
   "source": []
  },
  {
   "cell_type": "markdown",
   "metadata": {},
   "source": [
    "## Question 5\n",
    "\n",
    "Load the covid-19 dataset in the CSV file `COVID-19 Cases.csv`, set the column `date` \n",
    "as the index, and ensure that `date` is a `DateTimeIndex`.\n",
    "\n",
    "Print a view of first 10 lines of the dataset\n",
    "\n"
   ]
  },
  {
   "cell_type": "code",
   "execution_count": null,
   "metadata": {},
   "outputs": [],
   "source": []
  },
  {
   "cell_type": "markdown",
   "metadata": {},
   "source": [
    "## Question 6\n",
    "\n",
    "Next we will isolate the data we want to focus our attention on by creating a new DataFrame from the source, and by applying a few filters against it. We want to isolate the records where all the following conditions are true. First the Daily Difference count is greater than zero. Next the Case Type should be Confirmed. Finally, the Country_Region should be only Italy:"
   ]
  },
  {
   "cell_type": "markdown",
   "metadata": {},
   "source": [
    "HINT one can use this line to create a new DataFrame: `df_results = covid_df[(covid_df.Difference >0) & (covid_df.Case_Type == 'Confirmed') & (covid_df.Country_Region == 'Italy')]`\n",
    "\n",
    "Check whether the results are sorted by cases & ascending order to  well and accordingly, write the command to accomplish it:"
   ]
  },
  {
   "cell_type": "code",
   "execution_count": null,
   "metadata": {},
   "outputs": [],
   "source": []
  },
  {
   "cell_type": "markdown",
   "metadata": {},
   "source": [
    "## Question 7\n",
    "\n",
    "Now lets visually display the distribution of the values in the Difference column. We can pass an array of values into the default hist() plot (`plot the histogram using the Difference Column`):"
   ]
  },
  {
   "cell_type": "code",
   "execution_count": null,
   "metadata": {},
   "outputs": [],
   "source": []
  },
  {
   "cell_type": "markdown",
   "metadata": {},
   "source": [
    "## Question 8\n",
    "\n",
    "Use the describe() function against this DataFrame to compute some summary statistics on at least three columns & create a new DataFrame out of the three columns computed statistics on. We can look at one column by explicitly passing it in the square brackets along with the column /field name in double quotes:"
   ]
  },
  {
   "cell_type": "code",
   "execution_count": null,
   "metadata": {},
   "outputs": [],
   "source": []
  },
  {
   "cell_type": "markdown",
   "metadata": {},
   "source": [
    "## Question 9\n",
    "\n",
    "Use the Command: df_results.boxplot(by='Country_Region', column=['Difference'], grid=False);to obtain a boxplot of the selected columns. "
   ]
  },
  {
   "cell_type": "code",
   "execution_count": null,
   "metadata": {},
   "outputs": [],
   "source": []
  },
  {
   "cell_type": "markdown",
   "metadata": {},
   "source": [
    "## Question 10\n",
    "\n",
    "## Finding Patterns in Data \n",
    "\n",
    "Import the neccessary Libraries by adding the following command in your Jupyter Notebook and run the cell\n",
    "\n",
    "`import pandas as pd\n",
    "import numpy as np\n",
    "import matplotlib.pyplot as plt\n",
    "%matplotlib inline`\n",
    "\n",
    "Create a new DataFrame by importing the CSV file (`Covid datset`) used in the previous couple of questions:"
   ]
  },
  {
   "cell_type": "code",
   "execution_count": null,
   "metadata": {},
   "outputs": [],
   "source": []
  },
  {
   "cell_type": "markdown",
   "metadata": {},
   "source": [
    "## Question 11\n",
    "\n",
    "Now create two new DataFrames which will be subsets from the original source. Take an advantage of naming them generically as df_results_1 and df_results_2 which allows you to adjust the filters like Country_Region (`Italy & Germany`) and (`Confirmed cases`) column in the DataFrame."
   ]
  },
  {
   "cell_type": "markdown",
   "metadata": {},
   "source": []
  },
  {
   "cell_type": "markdown",
   "metadata": {},
   "source": [
    "## Question 12\n",
    "\n",
    "Complete the code below to create a scatter plot of columns `Cases`\n",
    "\n",
    "plt.scatter ();\n",
    "\n",
    " #Create a tittle for the plot\n",
    " \n",
    "plt.title()\n",
    "\n",
    "#label the x label \n",
    "\n",
    "plt.xlabel()\n",
    "\n",
    "#label the y label \n",
    "\n",
    "plt.ylabel();\n"
   ]
  },
  {
   "cell_type": "markdown",
   "metadata": {},
   "source": [
    "## GOOD LUCK & Merry Xmas & Happy New Year 2022"
   ]
  },
  {
   "cell_type": "code",
   "execution_count": null,
   "metadata": {},
   "outputs": [],
   "source": []
  }
 ],
 "metadata": {
  "kernelspec": {
   "display_name": "Python 3",
   "language": "python",
   "name": "python3"
  },
  "language_info": {
   "codemirror_mode": {
    "name": "ipython",
    "version": 3
   },
   "file_extension": ".py",
   "mimetype": "text/x-python",
   "name": "python",
   "nbconvert_exporter": "python",
   "pygments_lexer": "ipython3",
   "version": "3.7.6"
  }
 },
 "nbformat": 4,
 "nbformat_minor": 4
}
